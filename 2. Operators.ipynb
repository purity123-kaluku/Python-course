{
 "cells": [
  {
   "cell_type": "markdown",
   "id": "0724d154-6fb1-4b0f-86a8-0e565c7d1ba9",
   "metadata": {},
   "source": [
    "# operators"
   ]
  },
  {
   "cell_type": "markdown",
   "id": "5df98765-f43d-47b6-b672-9d1b27bb02ed",
   "metadata": {},
   "source": [
    "## assignment operators"
   ]
  },
  {
   "cell_type": "markdown",
   "id": "72ce3748-4c8c-4b71-9515-06fcd1cd5ccd",
   "metadata": {},
   "source": [
    "Assignment operators in Python are used to assign values to variables. Here’s a detailed overview of the different assignment operators available in Python:\n",
    "\n",
    "1. **Basic Assignment (`=`):**\n",
    "   Assigns the value on the right to the variable on the left.\n",
    "   ```python\n",
    "   x = 10\n",
    "   ```\n",
    "\n",
    "2. **Add and Assign (`+=`):**\n",
    "   Adds the value on the right to the variable on the left and assigns the result to the variable on the left.\n",
    "   ```python\n",
    "   x += 5  # Equivalent to x = x + 5\n",
    "   ```\n",
    "\n",
    "3. **Subtract and Assign (`-=`):**\n",
    "   Subtracts the value on the right from the variable on the left and assigns the result to the variable on the left.\n",
    "   ```python\n",
    "   x -= 3  # Equivalent to x = x - 3\n",
    "   ```\n",
    "\n",
    "4. **Multiply and Assign (`*=`):**\n",
    "   Multiplies the variable on the left by the value on the right and assigns the result to the variable on the left.\n",
    "   ```python\n",
    "   x *= 4  # Equivalent to x = x * 4\n",
    "   ```\n",
    "\n",
    "5. **Divide and Assign (`/=`):**\n",
    "   Divides the variable on the left by the value on the right and assigns the result to the variable on the left. The result is always a float.\n",
    "   ```python\n",
    "   x /= 2  # Equivalent to x = x / 2\n",
    "   ```\n",
    "\n",
    "6. **Floor Divide and Assign (`//=`):**\n",
    "   Performs floor division on the variable on the left by the value on the right and assigns the result to the variable on the left.\n",
    "   ```python\n",
    "   x //= 3  # Equivalent to x = x // 3\n",
    "   ```\n",
    "\n",
    "7. **Modulus and Assign (`%=`):**\n",
    "   Takes the modulus using the variable on the left and the value on the right and assigns the result to the variable on the left.\n",
    "   ```python\n",
    "   x %= 2  # Equivalent to x = x % 2\n",
    "   ```\n",
    "\n",
    "8. **Exponentiate and Assign (`**=`):**\n",
    "   Raises the variable on the left to the power of the value on the right and assigns the result to the variable on the left.\n",
    "   ```python\n",
    "   x **= 3  # Equivalent to x = x ** 3\n",
    "   ```\n",
    "\n",
    "9. **Bitwise AND and Assign (`&=`):**\n",
    "   Performs a bitwise AND operation on the variable on the left and the value on the right and assigns the result to the variable on the left.\n",
    "   ```python\n",
    "   x &= 5  # Equivalent to x = x & 5\n",
    "   ```\n",
    "\n",
    "10. **Bitwise OR and Assign (`|=`):**\n",
    "    Performs a bitwise OR operation on the variable on the left and the value on the right and assigns the result to the variable on the left.\n",
    "    ```python\n",
    "    x |= 3  # Equivalent to x = x | 3\n",
    "    ```\n",
    "\n",
    "11. **Bitwise XOR and Assign (`^=`):**\n",
    "    Performs a bitwise XOR operation on the variable on the left and the value on the right and assigns the result to the variable on the left.\n",
    "    ```python\n",
    "    x ^= 2  # Equivalent to x = x ^ 2\n",
    "    ```\n",
    "\n",
    "12. **Bitwise Right Shift and Assign (`>>=`):**\n",
    "    Performs a right bitwise shift on the variable on the left by the number of bits specified on the right and assigns the result to the variable on the left.\n",
    "    ```python\n",
    "    x >>= 1  # Equivalent to x = x >> 1\n",
    "    ```\n",
    "\n",
    "13. **Bitwise Left Shift and Assign (`<<=`):**\n",
    "    Performs a left bitwise shift on the variable on the left by the number of bits specified on the right and assigns the result to the variable on the left.\n",
    "    ```python\n",
    "    x <<= 2  # Equivalent to x = x << 2\n",
    "    ```\n",
    "\n",
    "These assignment operators help make code more concise and readable by combining an operation with assignment."
   ]
  },
  {
   "cell_type": "code",
   "execution_count": 1,
   "id": "51d208cf-3a7c-4a83-b44b-b9f42f3607d3",
   "metadata": {},
   "outputs": [
    {
     "name": "stdout",
     "output_type": "stream",
     "text": [
      "10\n"
     ]
    }
   ],
   "source": [
    "x = 10\n",
    "print(x)"
   ]
  },
  {
   "cell_type": "code",
   "execution_count": 2,
   "id": "4276ca20-8349-4e29-8b19-9a6b3dcf7033",
   "metadata": {},
   "outputs": [
    {
     "name": "stdout",
     "output_type": "stream",
     "text": [
      "15\n"
     ]
    }
   ],
   "source": [
    "x += 5  # Equivalent to x = x + 5\n",
    "print(x)"
   ]
  },
  {
   "cell_type": "code",
   "execution_count": 3,
   "id": "3c75c92f-d343-4257-b429-2aa0fc91b5c2",
   "metadata": {},
   "outputs": [
    {
     "name": "stdout",
     "output_type": "stream",
     "text": [
      "12\n"
     ]
    }
   ],
   "source": [
    "x -= 3  # Equivalent to x = x - 3\n",
    "print(x)"
   ]
  },
  {
   "cell_type": "code",
   "execution_count": 4,
   "id": "c4f80131-380f-43c9-83d6-078dedd7d3a9",
   "metadata": {},
   "outputs": [
    {
     "name": "stdout",
     "output_type": "stream",
     "text": [
      "48\n"
     ]
    }
   ],
   "source": [
    "x *= 4  # Equivalent to x = x * 4\n",
    "print(x)"
   ]
  },
  {
   "cell_type": "code",
   "execution_count": 5,
   "id": "6028740a-83f1-4be6-a3da-fd0525aeceb9",
   "metadata": {},
   "outputs": [
    {
     "name": "stdout",
     "output_type": "stream",
     "text": [
      "<class 'float'>\n",
      "24.0\n"
     ]
    }
   ],
   "source": [
    "x /= 2  # Equivalent to x = x / 2\n",
    "print(type(x))\n",
    "print(x)"
   ]
  },
  {
   "cell_type": "code",
   "execution_count": 6,
   "id": "67a438d5-25cc-4bf4-b96b-8f86d8238c7c",
   "metadata": {},
   "outputs": [],
   "source": [
    "x //= 5  # Equivalent to x = x // 3"
   ]
  },
  {
   "cell_type": "code",
   "execution_count": 7,
   "id": "be649fb9-5c4f-4c47-8efd-7a3e77dd24c9",
   "metadata": {},
   "outputs": [
    {
     "name": "stdout",
     "output_type": "stream",
     "text": [
      "4.0\n"
     ]
    }
   ],
   "source": [
    "print(x)"
   ]
  },
  {
   "cell_type": "code",
   "execution_count": 13,
   "id": "1f008e82-2e3d-4985-a858-97096476d05d",
   "metadata": {},
   "outputs": [],
   "source": [
    "x = 34\n",
    "x %= 7  # Equivalent to x = x % 7"
   ]
  },
  {
   "cell_type": "code",
   "execution_count": 14,
   "id": "422c1587-2940-44a6-a4b6-bcf9d31ef815",
   "metadata": {},
   "outputs": [
    {
     "name": "stdout",
     "output_type": "stream",
     "text": [
      "6\n"
     ]
    }
   ],
   "source": [
    "print(x)"
   ]
  },
  {
   "cell_type": "code",
   "execution_count": 15,
   "id": "b9ea068e-45c9-4493-b8f3-2ba00dd7ddc3",
   "metadata": {},
   "outputs": [
    {
     "name": "stdout",
     "output_type": "stream",
     "text": [
      "216\n"
     ]
    }
   ],
   "source": [
    "x **= 3  # Equivalent to x = x ** 3\n",
    "print(x)"
   ]
  },
  {
   "cell_type": "code",
   "execution_count": 16,
   "id": "7b72b80c-ff08-4f77-b603-db8a6ace6b54",
   "metadata": {},
   "outputs": [
    {
     "name": "stdout",
     "output_type": "stream",
     "text": [
      "0\n"
     ]
    }
   ],
   "source": [
    "x &= 5  # Equivalent to x = x & 5\n",
    "print(x)"
   ]
  },
  {
   "cell_type": "markdown",
   "id": "ae5b8f64-f36d-405d-92a6-6cde0b7081a8",
   "metadata": {},
   "source": [
    "## arithmetic operators\n",
    "- `+` - addition\n",
    "- `-` - subtraction\n",
    "- `*` - multiplication\n",
    "- `/` - division\n",
    "- `**` - exponentiation\n",
    "- `//` - floor division\n",
    "- `%` - modulous"
   ]
  },
  {
   "cell_type": "markdown",
   "id": "a42f85ab-d3ca-4a5c-bf37-703d51dde59a",
   "metadata": {},
   "source": [
    "### addition"
   ]
  },
  {
   "cell_type": "code",
   "execution_count": 17,
   "id": "a8cd961f-ba3e-4c07-b264-c464c27d9b3b",
   "metadata": {},
   "outputs": [
    {
     "name": "stdout",
     "output_type": "stream",
     "text": [
      "394.443\n"
     ]
    }
   ],
   "source": [
    "x = 57\n",
    "y = 337.443\n",
    "z = x + y\n",
    "print(z)"
   ]
  },
  {
   "cell_type": "markdown",
   "id": "1776a407-3491-4efc-b9fb-fee6684769c7",
   "metadata": {},
   "source": [
    "### subtraction"
   ]
  },
  {
   "cell_type": "code",
   "execution_count": 18,
   "id": "abc6a8c1-858a-4989-a9c2-b805f4764a6d",
   "metadata": {},
   "outputs": [
    {
     "name": "stdout",
     "output_type": "stream",
     "text": [
      "65.03\n"
     ]
    }
   ],
   "source": [
    "x = 98\n",
    "y = 32.97\n",
    "z = x-y\n",
    "print(z)"
   ]
  },
  {
   "cell_type": "markdown",
   "id": "485760f6-cfc3-423b-b8b0-3e063552fc27",
   "metadata": {},
   "source": [
    "### multiplication"
   ]
  },
  {
   "cell_type": "code",
   "execution_count": 19,
   "id": "c460ff61-9046-41a9-8b3d-9a3bc8c30298",
   "metadata": {},
   "outputs": [
    {
     "name": "stdout",
     "output_type": "stream",
     "text": [
      "1107.0\n"
     ]
    }
   ],
   "source": [
    "x = 45\n",
    "y = 24.6\n",
    "z = x * y\n",
    "print (z)"
   ]
  },
  {
   "cell_type": "markdown",
   "id": "86cd727e-b8b0-45ae-a44c-4e2253cfb203",
   "metadata": {},
   "source": [
    "### division"
   ]
  },
  {
   "cell_type": "code",
   "execution_count": 20,
   "id": "45b6f54c-634b-4b91-adeb-ccd480fa7da0",
   "metadata": {},
   "outputs": [
    {
     "name": "stdout",
     "output_type": "stream",
     "text": [
      "7.428571428571429\n"
     ]
    }
   ],
   "source": [
    "x = 208\n",
    "y = 28\n",
    "z = x/y\n",
    "print(z)"
   ]
  },
  {
   "cell_type": "markdown",
   "id": "4dd948b0-b66b-4337-83cb-5444f8089a19",
   "metadata": {},
   "source": [
    "### floor division"
   ]
  },
  {
   "cell_type": "code",
   "execution_count": 21,
   "id": "8935a0d4-f048-45c3-a177-2cb1a0cd91af",
   "metadata": {},
   "outputs": [
    {
     "name": "stdout",
     "output_type": "stream",
     "text": [
      "7\n"
     ]
    }
   ],
   "source": [
    "x = 208\n",
    "y = 28\n",
    "z = x // y\n",
    "print(z)"
   ]
  },
  {
   "cell_type": "markdown",
   "id": "02e1a4b8-6dca-42ff-a1ee-4411523bd624",
   "metadata": {},
   "source": [
    "### modulous"
   ]
  },
  {
   "cell_type": "code",
   "execution_count": 22,
   "id": "f59d610a-5743-46b5-b1eb-b3fcd6c1b891",
   "metadata": {},
   "outputs": [
    {
     "name": "stdout",
     "output_type": "stream",
     "text": [
      "12\n"
     ]
    }
   ],
   "source": [
    "x = 208\n",
    "y = 28\n",
    "z = x % y\n",
    "print(z)"
   ]
  },
  {
   "cell_type": "markdown",
   "id": "b6b06b56-7ff1-4a30-9e4b-22266d05d4cb",
   "metadata": {},
   "source": [
    "### exponentiation"
   ]
  },
  {
   "cell_type": "code",
   "execution_count": 23,
   "id": "56277f17-f5b0-4b88-a144-569b83c16ccd",
   "metadata": {},
   "outputs": [
    {
     "name": "stdout",
     "output_type": "stream",
     "text": [
      "Square of 4: 16\n",
      "cube of 4: 64\n",
      "Squareroot of 16: 4\n"
     ]
    }
   ],
   "source": [
    "# square\n",
    "y = 4 ** 2\n",
    "print(f'Square of 4: {y}')\n",
    "\n",
    "# cube\n",
    "x = 4 ** 3\n",
    "print(f'cube of 4: {x}')\n",
    "\n",
    "# squareroot\n",
    "z = 16 ** 0.5\n",
    "print(f'Squareroot of 16: {int(z)}')"
   ]
  },
  {
   "cell_type": "markdown",
   "id": "c37edefe-b382-462b-847a-db3923d578dc",
   "metadata": {},
   "source": [
    "## comparison operators\n",
    "- `==` - check if two values are equal\n",
    "-  `!=` - check if two values are not equal\n",
    "-  `<` - check if the value on the left side of the operator is less than the value on the right side of the operator\n",
    "-  `<=` - check if the value on the left side of the operator is less than or equal to the value on the right side of the operator\n",
    "-  `>` - check if the value on the left side of the operator is greater than the value on the right side of the operator\n",
    "-  `>=` - check if the value on the left side of the operator is greater than or equal to the value on the right side of the operator"
   ]
  },
  {
   "cell_type": "code",
   "execution_count": 24,
   "id": "13c14aab-b347-4d96-ab3a-233fa3dce1ce",
   "metadata": {
    "jp-MarkdownHeadingCollapsed": true
   },
   "outputs": [
    {
     "name": "stdout",
     "output_type": "stream",
     "text": [
      "Logical Operators Examples \n",
      "\n",
      "Is 5 equal to 4? False\n",
      "Is 5 not equal to 4? True\n",
      "Is 5 less than 5? False\n",
      "Is 5 less than or equal to 5? True\n",
      "Is 5 greater than 4? True\n",
      "Is 5 greater than or equal to 4? True\n"
     ]
    }
   ],
   "source": [
    "print(\"Logical Operators Examples \\n\")\n",
    "print(f'Is 5 equal to 4? {5 == 4}')\n",
    "print(f'Is 5 not equal to 4? {5 != 4}')\n",
    "print(f'Is 5 less than 5? {5 < 5}')\n",
    "print(f'Is 5 less than or equal to 5? {5 <= 5}')\n",
    "print(f'Is 5 greater than 4? {5 > 4}')\n",
    "print(f'Is 5 greater than or equal to 4? {5 >= 4}')"
   ]
  },
  {
   "cell_type": "markdown",
   "id": "98267806-c65b-4ad0-802e-8e279e0f2ad7",
   "metadata": {},
   "source": [
    "## logical operators"
   ]
  },
  {
   "cell_type": "markdown",
   "id": "479b8703-318d-48bd-bdbf-954e3d0b1070",
   "metadata": {},
   "source": [
    "In Python, logical operators are used to perform logical operations on boolean values. The three main logical operators are `and`, `or`, and `not`.\n",
    "\n",
    "### 1. `and` Operator\n",
    "\n",
    "The `and` operator returns `True` if both operands are `True`. Otherwise, it returns `False`.\n",
    "\n",
    "**Syntax:**\n",
    "```python\n",
    "result = expression1 and expression2\n",
    "```\n",
    "\n",
    "**Examples:**\n",
    "```python\n",
    "a = True\n",
    "b = False\n",
    "result = a and b  # result is False because both operands are not True\n",
    "\n",
    "a = True\n",
    "b = True\n",
    "result = a and b  # result is True because both operands are True\n",
    "```\n",
    "\n",
    "### 2. `or` Operator\n",
    "\n",
    "The `or` operator returns `True` if at least one of the operands is `True`. It returns `False` only if both operands are `False`.\n",
    "\n",
    "**Syntax:**\n",
    "```python\n",
    "result = expression1 or expression2\n",
    "```\n",
    "\n",
    "**Examples:**\n",
    "```python\n",
    "a = True\n",
    "b = False\n",
    "result = a or b  # result is True because at least one operand is True\n",
    "\n",
    "a = False\n",
    "b = False\n",
    "result = a or b  # result is False because both operands are False\n",
    "```\n",
    "\n",
    "### 3. `not` Operator\n",
    "\n",
    "The `not` operator is a unary operator that inverts the boolean value of its operand. If the operand is `True`, it returns `False`; if the operand is `False`, it returns `True`.\n",
    "\n",
    "**Syntax:**\n",
    "```python\n",
    "result = not expression\n",
    "```\n",
    "\n",
    "**Examples:**\n",
    "```python\n",
    "a = True\n",
    "result = not a  # result is False because `not` inverts the value\n",
    "\n",
    "a = False\n",
    "result = not a  # result is True because `not` inverts the value\n",
    "```\n",
    "\n",
    "### Combining Logical Operators\n",
    "\n",
    "Logical operators can be combined to form more complex logical expressions.\n",
    "\n",
    "**Example:**\n",
    "```python\n",
    "a = True\n",
    "b = False\n",
    "c = True\n",
    "\n",
    "result = a and b or c  # result is True\n",
    "# Explanation:\n",
    "# a and b evaluates to False because b is False\n",
    "# False or c evaluates to True because c is True\n",
    "```\n",
    "\n",
    "### Short-Circuit Evaluation\n",
    "\n",
    "Python logical operators use short-circuit evaluation. This means that evaluation stops as soon as the result is determined.\n",
    "\n",
    "**Examples:**\n",
    "- For `and`, if the first operand is `False`, the second operand is not evaluated because the result is already `False`.\n",
    "- For `or`, if the first operand is `True`, the second operand is not evaluated because the result is already `True`.\n",
    "\n",
    "```python\n",
    "# Example of short-circuit with `and`\n",
    "def func1():\n",
    "    print(\"func1 called\")\n",
    "    return False\n",
    "\n",
    "def func2():\n",
    "    print(\"func2 called\")\n",
    "    return True\n",
    "\n",
    "result = func1() and func2()  # func2 is not called because func1 returns False\n",
    "\n",
    "# Example of short-circuit with `or`\n",
    "def func3():\n",
    "    print(\"func3 called\")\n",
    "    return True\n",
    "\n",
    "def func4():\n",
    "    print(\"func4 called\")\n",
    "    return False\n",
    "\n",
    "result = func3() or func4()  # func4 is not called because func3 returns True\n",
    "```\n",
    "\n",
    "Understanding these logical operators and their behavior is essential for controlling the flow of your Python programs."
   ]
  },
  {
   "cell_type": "code",
   "execution_count": 26,
   "id": "4d22f4e4-84fb-4775-8185-9dcf79a49efa",
   "metadata": {},
   "outputs": [
    {
     "name": "stdout",
     "output_type": "stream",
     "text": [
      "False\n",
      "True\n"
     ]
    }
   ],
   "source": [
    "a = True\n",
    "b = False\n",
    "result = a and b  # result is False because both operands are not True\n",
    "print(result)\n",
    "\n",
    "a = True\n",
    "b = True\n",
    "result = a and b  # result is True because both operands are True\n",
    "print(result)"
   ]
  },
  {
   "cell_type": "code",
   "execution_count": 29,
   "id": "c6397e96-cc8f-414b-9b72-faee993e2da3",
   "metadata": {},
   "outputs": [
    {
     "name": "stdout",
     "output_type": "stream",
     "text": [
      "False\n"
     ]
    }
   ],
   "source": [
    "print((5 < 4) and (25 / 5 == 5))"
   ]
  },
  {
   "cell_type": "code",
   "execution_count": 27,
   "id": "c8ef55a1-a07d-4251-a0c0-cfa13bb7fd9b",
   "metadata": {},
   "outputs": [
    {
     "name": "stdout",
     "output_type": "stream",
     "text": [
      "True\n",
      "False\n"
     ]
    }
   ],
   "source": [
    "a = True\n",
    "b = False\n",
    "result = a or b  # result is True because at least one operand is True\n",
    "print(result)\n",
    "\n",
    "a = False\n",
    "b = False\n",
    "result = a or b  # result is False because both operands are False\n",
    "print(result)"
   ]
  },
  {
   "cell_type": "code",
   "execution_count": 30,
   "id": "33e69a82-f8ef-475f-aae0-1f114e250457",
   "metadata": {},
   "outputs": [
    {
     "name": "stdout",
     "output_type": "stream",
     "text": [
      "True\n"
     ]
    }
   ],
   "source": [
    "print((5 < 4) or (25 / 5 == 5))"
   ]
  },
  {
   "cell_type": "code",
   "execution_count": 31,
   "id": "3978d5ce-887d-47ec-a15c-0cfde0b140d7",
   "metadata": {},
   "outputs": [
    {
     "name": "stdout",
     "output_type": "stream",
     "text": [
      "False\n"
     ]
    }
   ],
   "source": [
    "print((5 < 4) or (25 / 5 != 5))"
   ]
  },
  {
   "cell_type": "code",
   "execution_count": 32,
   "id": "e8138ca9-a5d6-4d5e-b6e0-e0b09607adf0",
   "metadata": {},
   "outputs": [
    {
     "name": "stdout",
     "output_type": "stream",
     "text": [
      "False\n",
      "True\n"
     ]
    }
   ],
   "source": [
    "a = True\n",
    "result = not a  # result is False because `not` inverts the value\n",
    "print(result)\n",
    "\n",
    "a = False\n",
    "result = not a  # result is True because `not` inverts the value\n",
    "print(result)"
   ]
  },
  {
   "cell_type": "code",
   "execution_count": 36,
   "id": "43ce3a4d-5252-4735-9eac-069b7bc63a68",
   "metadata": {},
   "outputs": [
    {
     "name": "stdout",
     "output_type": "stream",
     "text": [
      "False\n"
     ]
    }
   ],
   "source": [
    "print((5 < 4) and not (25 / 5 != 5))"
   ]
  },
  {
   "cell_type": "code",
   "execution_count": 37,
   "id": "dee5a6d7-0627-4d85-a00f-fc228974085b",
   "metadata": {},
   "outputs": [
    {
     "name": "stdout",
     "output_type": "stream",
     "text": [
      "True\n"
     ]
    }
   ],
   "source": [
    "print((5 < 4) or not (25 / 5 != 5))"
   ]
  },
  {
   "cell_type": "code",
   "execution_count": 38,
   "id": "67818dcc-712a-4b75-95ac-26d3b4917eba",
   "metadata": {},
   "outputs": [
    {
     "name": "stdout",
     "output_type": "stream",
     "text": [
      "False\n"
     ]
    }
   ],
   "source": [
    "print((5 < 4) or not (25 / 5 == 5))"
   ]
  }
 ],
 "metadata": {
  "kernelspec": {
   "display_name": "Python 3 (ipykernel)",
   "language": "python",
   "name": "python3"
  },
  "language_info": {
   "codemirror_mode": {
    "name": "ipython",
    "version": 3
   },
   "file_extension": ".py",
   "mimetype": "text/x-python",
   "name": "python",
   "nbconvert_exporter": "python",
   "pygments_lexer": "ipython3",
   "version": "3.9.0"
  }
 },
 "nbformat": 4,
 "nbformat_minor": 5
}
