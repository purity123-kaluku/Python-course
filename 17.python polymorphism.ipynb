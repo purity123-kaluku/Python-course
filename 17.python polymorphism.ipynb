{
 "cells": [
  {
   "cell_type": "markdown",
   "id": "8a71f295-9b08-4a2e-af4b-3e631aabcbce",
   "metadata": {},
   "source": [
    "## Python Polymorphism\n",
    "The word \"polymorphism\" means \"many forms\"\n",
    "- `it allows objects of different classes to be treated as objects of a common superclass`"
   ]
  },
  {
   "cell_type": "markdown",
   "id": "528f57b4-ed30-4eb7-86a7-e7fa83938adb",
   "metadata": {},
   "source": [
    "### Types of Polymorphism\n",
    "1. `-Duck Typing:`\n",
    "2. `Method Overriding:`\n",
    "3. `Operator Overloading:`\n",
    "4. `Polymorphic Functions:`\n"
   ]
  },
  {
   "cell_type": "markdown",
   "id": "f17ab456-25bc-436d-a867-30128f99a316",
   "metadata": {},
   "source": [
    "### Duck Typing\n",
    "Duck typing is a concept related to dynamic typing, where the type or class of an object is less important than the methods it defines. If an object walks like a duck and quacks like a duck, it can be treated as a duck."
   ]
  },
  {
   "cell_type": "code",
   "execution_count": 1,
   "id": "cce7e5bb-f537-4432-bad0-7459b1ddbece",
   "metadata": {},
   "outputs": [
    {
     "name": "stdout",
     "output_type": "stream",
     "text": [
      "Woof!\n",
      "Meow!\n"
     ]
    }
   ],
   "source": [
    "class Dog:\n",
    "    def speak(self):\n",
    "        return \"Woof!\"\n",
    "\n",
    "class Cat:\n",
    "    def speak(self):\n",
    "        return \"Meow!\"\n",
    "\n",
    "def animal_sound(animal):\n",
    "    print(animal.speak())\n",
    "\n",
    "dog = Dog()\n",
    "cat = Cat()\n",
    "\n",
    "animal_sound(dog)  # Output: Woof!\n",
    "animal_sound(cat)  # Output: Meow!\n"
   ]
  },
  {
   "cell_type": "markdown",
   "id": "faf8b5e9-0e18-4121-a0bd-b59d58174b65",
   "metadata": {},
   "source": [
    "### Method Overriding:\n",
    "Method overriding occurs when a subclass provides a specific implementation of a method that is already defined in its superclass. The subclass method overrides the superclass method."
   ]
  },
  {
   "cell_type": "code",
   "execution_count": 2,
   "id": "e0c3f94a-c0cf-47c4-b3ac-1a928155376d",
   "metadata": {},
   "outputs": [
    {
     "name": "stdout",
     "output_type": "stream",
     "text": [
      "Woof!\n",
      "Meow!\n"
     ]
    }
   ],
   "source": [
    "class Animal:\n",
    "    def speak(self):\n",
    "        raise NotImplementedError(\"Subclass must implement abstract method\")\n",
    "\n",
    "class Dog(Animal):\n",
    "    def speak(self):\n",
    "        return \"Woof!\"\n",
    "\n",
    "class Cat(Animal):\n",
    "    def speak(self):\n",
    "        return \"Meow!\"\n",
    "\n",
    "animals = [Dog(), Cat()]\n",
    "\n",
    "for animal in animals:\n",
    "    print(animal.speak())\n",
    "\n",
    "# Output:\n",
    "# Woof!\n",
    "# Meow!\n"
   ]
  },
  {
   "cell_type": "markdown",
   "id": "4e8476bf-4013-4f70-960a-16794cbd1d85",
   "metadata": {},
   "source": [
    "### Operator Overloading:\n",
    "Python allows operators to be used with different types of objects, which is a form of polymorphism. For instance, the + operator can be used to add integers, concatenate strings, or merge lists."
   ]
  },
  {
   "cell_type": "code",
   "execution_count": 3,
   "id": "f3dabb7a-78b4-4798-b34d-2bedf417365e",
   "metadata": {},
   "outputs": [
    {
     "name": "stdout",
     "output_type": "stream",
     "text": [
      "3\n",
      "ab\n",
      "[1, 2, 3, 4]\n"
     ]
    }
   ],
   "source": [
    "print(1 + 2)        # Output: 3 (Addition)\n",
    "print('a' + 'b')    # Output: 'ab' (String concatenation)\n",
    "print([1, 2] + [3, 4])  # Output: [1, 2, 3, 4] (List concatenation)\n"
   ]
  },
  {
   "cell_type": "markdown",
   "id": "7d736c94-6075-45a7-b981-f570a5620dcc",
   "metadata": {},
   "source": [
    "### Polymorphic Functions:\n",
    "Functions in Python can accept arguments of any type, which allows them to work with objects of different types in a polymorphic way."
   ]
  },
  {
   "cell_type": "code",
   "execution_count": 4,
   "id": "d6c80e12-a18e-48eb-960b-6c9c32df1f09",
   "metadata": {},
   "outputs": [
    {
     "name": "stdout",
     "output_type": "stream",
     "text": [
      "3\n",
      "hello world\n",
      "[1, 2, 3, 4]\n"
     ]
    }
   ],
   "source": [
    "def add(a, b):\n",
    "    return a + b\n",
    "\n",
    "print(add(1, 2))        # Output: 3\n",
    "print(add('hello', ' world'))  # Output: 'hello world'\n",
    "print(add([1, 2], [3, 4]))  # Output: [1, 2, 3, 4]\n"
   ]
  },
  {
   "cell_type": "code",
   "execution_count": null,
   "id": "9c77bd33-60e0-4e91-b534-1614bdf59404",
   "metadata": {},
   "outputs": [],
   "source": []
  }
 ],
 "metadata": {
  "kernelspec": {
   "display_name": "Python 3 (ipykernel)",
   "language": "python",
   "name": "python3"
  },
  "language_info": {
   "codemirror_mode": {
    "name": "ipython",
    "version": 3
   },
   "file_extension": ".py",
   "mimetype": "text/x-python",
   "name": "python",
   "nbconvert_exporter": "python",
   "pygments_lexer": "ipython3",
   "version": "3.9.0"
  }
 },
 "nbformat": 4,
 "nbformat_minor": 5
}
