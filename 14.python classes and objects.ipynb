{
 "cells": [
  {
   "cell_type": "markdown",
   "id": "f863c98c-4e2a-41a8-8ebe-593b1fc7d1c6",
   "metadata": {},
   "source": [
    "## python classes and objects\n",
    "- `-A Class is like an object constructor, or a \"blueprint\" for creating objects`\n",
    "- `An object is an instance of a class. When a class is defined, no memory is allocated until an object of that class is created`"
   ]
  },
  {
   "cell_type": "markdown",
   "id": "3f98c1a2-d580-40f8-af0a-18ce3655b084",
   "metadata": {},
   "source": [
    "### Defining a Class"
   ]
  },
  {
   "cell_type": "code",
   "execution_count": 3,
   "id": "fabf5ef7-e7f0-4ca5-9965-bbc25943f8db",
   "metadata": {},
   "outputs": [
    {
     "name": "stdout",
     "output_type": "stream",
     "text": [
      "<class '__main__.MyClass'>\n"
     ]
    }
   ],
   "source": [
    "class MyClass:        #Create a class named MyClass, with a property named x\n",
    "  x = 5\n",
    "print(MyClass)"
   ]
  },
  {
   "cell_type": "markdown",
   "id": "514c6d96-2a9f-4ceb-9fc4-0218395f9c69",
   "metadata": {},
   "source": [
    "### creating an object"
   ]
  },
  {
   "cell_type": "code",
   "execution_count": 4,
   "id": "dfefa810-aced-4bd1-8950-e0c172dbe4f9",
   "metadata": {},
   "outputs": [
    {
     "name": "stdout",
     "output_type": "stream",
     "text": [
      "5\n"
     ]
    }
   ],
   "source": [
    "p1 = MyClass()      #Create an object named p1, and print the value of x:\n",
    "print(p1.x)"
   ]
  },
  {
   "cell_type": "markdown",
   "id": "0cdd2c14-edf0-442a-962c-f5ecbd1ca1cf",
   "metadata": {},
   "source": [
    "### The __init__() Function\n",
    "- `-is a special method called a constructor`\n",
    "- `It is automatically called when a new instance of a class is created`\n",
    "- `This method is used to initialize the object's state by assigning values to the object's properties`"
   ]
  },
  {
   "cell_type": "code",
   "execution_count": 5,
   "id": "4afe42cd-b960-4471-84cd-e63ee0fc190f",
   "metadata": {},
   "outputs": [
    {
     "name": "stdout",
     "output_type": "stream",
     "text": [
      "Buddy\n",
      "Golden Retriever\n",
      "Buddy says woof!\n"
     ]
    }
   ],
   "source": [
    "class Dog:\n",
    "    def __init__(self, name, breed):\n",
    "        self.name = name  # Initialize instance attribute 'name'\n",
    "        self.breed = breed  # Initialize instance attribute 'breed'\n",
    "\n",
    "    def bark(self):\n",
    "        return f\"{self.name} says woof!\"\n",
    "\n",
    "# Creating an instance of the Dog class\n",
    "my_dog = Dog(\"Buddy\", \"Golden Retriever\")\n",
    "\n",
    "# Accessing instance attributes\n",
    "print(my_dog.name)   # Output: Buddy\n",
    "print(my_dog.breed)  # Output: Golden Retriever\n",
    "\n",
    "# Calling an instance method\n",
    "print(my_dog.bark())  # Output: Buddy says woof!\n"
   ]
  },
  {
   "cell_type": "code",
   "execution_count": 13,
   "id": "eae64ee0-1b7a-408f-9804-25001d80601c",
   "metadata": {},
   "outputs": [
    {
     "name": "stdout",
     "output_type": "stream",
     "text": [
      "John\n",
      "36\n",
      "John is bright\n"
     ]
    }
   ],
   "source": [
    "class Person:\n",
    "  def __init__(self, name, age):\n",
    "    self.name = name\n",
    "    self.age = age\n",
    "  def call(self):\n",
    "      return f\"{self.name} is bright\"\n",
    "\n",
    "p1 = Person(\"John\", 36)\n",
    "\n",
    "print(p1.name)\n",
    "print(p1.age)\n",
    "print(p1.call())"
   ]
  },
  {
   "cell_type": "markdown",
   "id": "f46e972e-a19f-449a-89ec-2c750add458f",
   "metadata": {},
   "source": [
    "### The __str__() Function\n",
    "- `The __str__() function controls what should be returned when the class object is represented as a string`\n",
    "- `If the __str__() function is not set, the string representation of the object is returned`"
   ]
  },
  {
   "cell_type": "code",
   "execution_count": 7,
   "id": "8ef08998-a90c-4eae-99d3-eaf6c425aa99",
   "metadata": {},
   "outputs": [
    {
     "name": "stdout",
     "output_type": "stream",
     "text": [
      "<__main__.Person object at 0x0000022AE7E0B340>\n"
     ]
    }
   ],
   "source": [
    "class Person:\n",
    "  def __init__(self, name, age):\n",
    "    self.name = name\n",
    "    self.age = age\n",
    "\n",
    "p1 = Person(\"John\", 36)\n",
    "\n",
    "print(p1)"
   ]
  },
  {
   "cell_type": "code",
   "execution_count": 8,
   "id": "b6d3fab4-7464-4464-93be-683911324b3c",
   "metadata": {},
   "outputs": [
    {
     "name": "stdout",
     "output_type": "stream",
     "text": [
      "John(36)\n"
     ]
    }
   ],
   "source": [
    "class Person:\n",
    "  def __init__(self, name, age):\n",
    "    self.name = name\n",
    "    self.age = age\n",
    "\n",
    "  def __str__(self):\n",
    "    return f\"{self.name}({self.age})\"\n",
    "\n",
    "p1 = Person(\"John\", 36)\n",
    "\n",
    "print(p1)"
   ]
  },
  {
   "cell_type": "markdown",
   "id": "a3c722c1-3118-432e-b745-206bffb903af",
   "metadata": {},
   "source": [
    "### Object Methods\n",
    "Methods in objects are functions that belong to the object."
   ]
  },
  {
   "cell_type": "code",
   "execution_count": 9,
   "id": "a9db0a14-99b4-4840-aa72-14e21e89bfbb",
   "metadata": {},
   "outputs": [
    {
     "name": "stdout",
     "output_type": "stream",
     "text": [
      "Hello my name is John\n"
     ]
    }
   ],
   "source": [
    "class Person:\n",
    "  def __init__(self, name, age):\n",
    "    self.name = name\n",
    "    self.age = age\n",
    "\n",
    "  def myfunc(self):\n",
    "    print(\"Hello my name is \" + self.name)\n",
    "\n",
    "p1 = Person(\"John\", 36)\n",
    "p1.myfunc()"
   ]
  },
  {
   "cell_type": "code",
   "execution_count": 10,
   "id": "75d72d50-53d2-450e-82ee-231a89558956",
   "metadata": {},
   "outputs": [
    {
     "name": "stdout",
     "output_type": "stream",
     "text": [
      "Method called without argument\n",
      "Method called with argument 10\n"
     ]
    }
   ],
   "source": [
    "class Example:\n",
    "    def method(self, x=None):\n",
    "        if x is not None:\n",
    "            print(f\"Method called with argument {x}\")\n",
    "        else:\n",
    "            print(\"Method called without argument\")\n",
    "\n",
    "obj = Example()\n",
    "obj.method()       # Output: Method called without argument\n",
    "obj.method(10)     # Output: Method called with argument 10\n"
   ]
  },
  {
   "cell_type": "markdown",
   "id": "6a2938c1-e3a3-4c38-a592-967da48b5fa2",
   "metadata": {},
   "source": [
    "### Special Methods\n",
    "Python classes can include special methods, sometimes called magic methods, which start and end with double underscores (__). These methods allow objects to implement behavior for built-in operations."
   ]
  },
  {
   "cell_type": "code",
   "execution_count": 11,
   "id": "8cb47b14-8b33-4150-afe7-1fd3b5c0debb",
   "metadata": {},
   "outputs": [
    {
     "name": "stdout",
     "output_type": "stream",
     "text": [
      "Vector(6, 8)\n"
     ]
    }
   ],
   "source": [
    "class Vector:\n",
    "    def __init__(self, x, y):\n",
    "        self.x = x\n",
    "        self.y = y\n",
    "\n",
    "    def __add__(self, other):\n",
    "        return Vector(self.x + other.x, self.y + other.y)\n",
    "\n",
    "    def __str__(self):\n",
    "        return f\"Vector({self.x}, {self.y})\"\n",
    "\n",
    "v1 = Vector(2, 3)\n",
    "v2 = Vector(4, 5)\n",
    "v3 = v1 + v2\n",
    "print(v3)  # Output: Vector(6, 8)\n"
   ]
  },
  {
   "cell_type": "code",
   "execution_count": 3,
   "id": "322fb45b-dc12-4bca-ade4-9672d727dea9",
   "metadata": {},
   "outputs": [],
   "source": [
    "# Class parameters - parameters provided at class level\n",
    "class Greet:\n",
    "    def __init__(self,name,title):\n",
    "        self.name = name\n",
    "        self.title = title\n",
    "    def greeting(self):\n",
    "        print(f\"{self.name} is a {self.title}.\\n welcome\")"
   ]
  },
  {
   "cell_type": "code",
   "execution_count": 4,
   "id": "916f8dbc-c787-4076-a5eb-d30da2d1029b",
   "metadata": {},
   "outputs": [
    {
     "name": "stdout",
     "output_type": "stream",
     "text": [
      "eunice is a developer.\n",
      " welcome\n"
     ]
    }
   ],
   "source": [
    "greet = Greet(\"eunice\",\"developer\")\n",
    "greet.greeting()"
   ]
  },
  {
   "cell_type": "code",
   "execution_count": 5,
   "id": "c711b531-2c78-40f5-a903-8fe1afbf1a1f",
   "metadata": {},
   "outputs": [],
   "source": [
    "#Instanve parameters - parameters provided at instance level\n",
    "class Greet:\n",
    "    def greeting(self, name, title):\n",
    "        print(f\"{name} is a {title}.\\n welcome\")"
   ]
  },
  {
   "cell_type": "code",
   "execution_count": 6,
   "id": "9fa93629-c2a7-4d71-a057-7cb596d50acc",
   "metadata": {},
   "outputs": [
    {
     "name": "stdout",
     "output_type": "stream",
     "text": [
      "eunice is a developer.\n",
      " welcome\n"
     ]
    }
   ],
   "source": [
    "greet = Greet()\n",
    "greet.greeting(\"eunice\",\"developer\")"
   ]
  },
  {
   "cell_type": "code",
   "execution_count": null,
   "id": "7870d5eb-ba49-4c5b-ad96-4742c8d8a986",
   "metadata": {},
   "outputs": [],
   "source": []
  }
 ],
 "metadata": {
  "kernelspec": {
   "display_name": "Python 3 (ipykernel)",
   "language": "python",
   "name": "python3"
  },
  "language_info": {
   "codemirror_mode": {
    "name": "ipython",
    "version": 3
   },
   "file_extension": ".py",
   "mimetype": "text/x-python",
   "name": "python",
   "nbconvert_exporter": "python",
   "pygments_lexer": "ipython3",
   "version": "3.9.0"
  }
 },
 "nbformat": 4,
 "nbformat_minor": 5
}
