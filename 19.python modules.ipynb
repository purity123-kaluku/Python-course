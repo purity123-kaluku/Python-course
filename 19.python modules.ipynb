{
 "cells": [
  {
   "cell_type": "markdown",
   "id": "e91e12bb-8c1c-4b68-9c45-080e97c5ede1",
   "metadata": {},
   "source": [
    "### python modules\n",
    "- `a module is same as code library`\n",
    "- `is a file containing a set of functions you want to include in your application`"
   ]
  },
  {
   "cell_type": "markdown",
   "id": "37ee96ce-6c5b-4ad1-a720-167d9aed4ba4",
   "metadata": {},
   "source": [
    "## Create a Module\n",
    "To create a module just save the code you want in a file with the file extension .py"
   ]
  },
  {
   "cell_type": "code",
   "execution_count": 1,
   "id": "a54ba538-a509-49c3-9590-b9dccc40cb1a",
   "metadata": {},
   "outputs": [],
   "source": [
    "def greeting(name):       #Save this code in a file named mymodule.py\n",
    "  print(\"Hello, \" + name)"
   ]
  },
  {
   "cell_type": "markdown",
   "id": "b82b81a8-d968-44b3-bad6-3b2ae0aa20ca",
   "metadata": {},
   "source": [
    "## Use a Module\n",
    "Now we can use the module we just created, by using the import statement:\n",
    "#import mymodule\n",
    "#mymodule.greeting(\"Jonathan\")"
   ]
  },
  {
   "cell_type": "code",
   "execution_count": null,
   "id": "0b4ff07a-fd04-4ab8-a946-20c99c50e98c",
   "metadata": {},
   "outputs": [],
   "source": []
  }
 ],
 "metadata": {
  "kernelspec": {
   "display_name": "Python 3 (ipykernel)",
   "language": "python",
   "name": "python3"
  },
  "language_info": {
   "codemirror_mode": {
    "name": "ipython",
    "version": 3
   },
   "file_extension": ".py",
   "mimetype": "text/x-python",
   "name": "python",
   "nbconvert_exporter": "python",
   "pygments_lexer": "ipython3",
   "version": "3.9.0"
  }
 },
 "nbformat": 4,
 "nbformat_minor": 5
}
