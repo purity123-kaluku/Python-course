{
 "cells": [
  {
   "cell_type": "markdown",
   "id": "fea8887c-e24d-490c-be59-06d368cf2f08",
   "metadata": {},
   "source": [
    "## python arrays\n",
    "An array is a special variable, which can hold more than one value at a time"
   ]
  },
  {
   "cell_type": "code",
   "execution_count": 2,
   "id": "ded8fc48-262d-4a09-ad2c-12ce10e6faf6",
   "metadata": {},
   "outputs": [
    {
     "name": "stdout",
     "output_type": "stream",
     "text": [
      "['Ford', 'Volvo', 'BMW']\n"
     ]
    }
   ],
   "source": [
    "cars = [\"Ford\", \"Volvo\", \"BMW\"]  #Create an array containing car names\n",
    "print(cars)"
   ]
  },
  {
   "cell_type": "code",
   "execution_count": 3,
   "id": "6aeb2e18-df7f-417c-843a-d45060e35230",
   "metadata": {},
   "outputs": [
    {
     "data": {
      "text/plain": [
       "'Ford'"
      ]
     },
     "execution_count": 3,
     "metadata": {},
     "output_type": "execute_result"
    }
   ],
   "source": [
    "x = cars[0]   #Get the value of the first array item\n",
    "x"
   ]
  },
  {
   "cell_type": "code",
   "execution_count": 4,
   "id": "bca2b362-da83-4f11-8d84-deabb2d3ad09",
   "metadata": {},
   "outputs": [
    {
     "data": {
      "text/plain": [
       "['Toyota', 'Volvo', 'BMW']"
      ]
     },
     "execution_count": 4,
     "metadata": {},
     "output_type": "execute_result"
    }
   ],
   "source": [
    "cars[0] = \"Toyota\"   #Modify the value of the first array item\n",
    "cars"
   ]
  },
  {
   "cell_type": "code",
   "execution_count": 6,
   "id": "25d86690-c228-46b2-9fbf-4e609d0483f7",
   "metadata": {},
   "outputs": [
    {
     "name": "stdout",
     "output_type": "stream",
     "text": [
      "3\n"
     ]
    }
   ],
   "source": [
    "x = len(cars)\n",
    "print(x)"
   ]
  },
  {
   "cell_type": "markdown",
   "id": "cac39e1d-d701-489d-8db7-c427f9f1db4a",
   "metadata": {},
   "source": [
    "### Looping Array Elements"
   ]
  },
  {
   "cell_type": "code",
   "execution_count": 7,
   "id": "91adb397-0d52-454d-9a47-08ad28e2078f",
   "metadata": {},
   "outputs": [
    {
     "name": "stdout",
     "output_type": "stream",
     "text": [
      "Toyota\n",
      "Volvo\n",
      "BMW\n"
     ]
    }
   ],
   "source": [
    "for x in cars:\n",
    "  print(x)"
   ]
  },
  {
   "cell_type": "markdown",
   "id": "38861ac6-c785-44e0-acc9-458740e9965d",
   "metadata": {},
   "source": [
    "### Adding Array Elements"
   ]
  },
  {
   "cell_type": "code",
   "execution_count": 9,
   "id": "dc8f50f7-ef29-4577-82ad-06440d132132",
   "metadata": {},
   "outputs": [
    {
     "name": "stdout",
     "output_type": "stream",
     "text": [
      "['Toyota', 'Volvo', 'BMW', 'Honda', 'Honda']\n"
     ]
    }
   ],
   "source": [
    "cars.append(\"Honda\")\n",
    "print(cars)"
   ]
  },
  {
   "cell_type": "markdown",
   "id": "3e082021-f918-4c32-98f2-b5169d25ee38",
   "metadata": {},
   "source": [
    "### Removing Array Elements"
   ]
  },
  {
   "cell_type": "code",
   "execution_count": 10,
   "id": "f6924a4c-57de-4991-a407-1b7291fd6841",
   "metadata": {},
   "outputs": [
    {
     "name": "stdout",
     "output_type": "stream",
     "text": [
      "['Toyota', 'BMW', 'Honda', 'Honda']\n"
     ]
    }
   ],
   "source": [
    "cars.pop(1)\n",
    "print(cars)"
   ]
  },
  {
   "cell_type": "code",
   "execution_count": 11,
   "id": "51f489bb-77e8-483a-8674-1f1cae18b7f4",
   "metadata": {},
   "outputs": [
    {
     "name": "stdout",
     "output_type": "stream",
     "text": [
      "['Toyota', 'BMW', 'Honda']\n"
     ]
    }
   ],
   "source": [
    "cars.pop(2)\n",
    "print(cars)"
   ]
  },
  {
   "cell_type": "markdown",
   "id": "6eaa9e5e-1003-4522-bded-807d1fc331aa",
   "metadata": {},
   "source": [
    "### Array Methods\n",
    "- `append()\tAdds an element at the end of the list`\n",
    "- `clear()\tRemoves all the elements from the list`\n",
    "- `copy()\tReturns a copy of the list`\n",
    "- `count()\tReturns the number of elements with the specified value`\n",
    "- `extend()\tAdd the elements of a list (or any iterable), to the end of the current list`\n",
    "- `index()\tReturns the index of the first element with the specified value`\n",
    "- `insert()\tAdds an element at the specified position`\n",
    "- `pop()\tRemoves the element at the specified position`\n",
    "- `remove()\tRemoves the first item with the specified value`\n",
    "- `reverse()\tReverses the order of the list`\n",
    "- `sort()\tSorts the list`"
   ]
  },
  {
   "cell_type": "code",
   "execution_count": null,
   "id": "7b18781e-29e4-411c-a653-a757d1275f17",
   "metadata": {},
   "outputs": [],
   "source": []
  }
 ],
 "metadata": {
  "kernelspec": {
   "display_name": "Python 3 (ipykernel)",
   "language": "python",
   "name": "python3"
  },
  "language_info": {
   "codemirror_mode": {
    "name": "ipython",
    "version": 3
   },
   "file_extension": ".py",
   "mimetype": "text/x-python",
   "name": "python",
   "nbconvert_exporter": "python",
   "pygments_lexer": "ipython3",
   "version": "3.9.0"
  }
 },
 "nbformat": 4,
 "nbformat_minor": 5
}
