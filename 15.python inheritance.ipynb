{
 "cells": [
  {
   "cell_type": "markdown",
   "id": "a7f6fd90-e657-44bf-995e-ab500f57dde2",
   "metadata": {},
   "source": [
    "## Python Inheritance\n",
    "- `it is a concept that a class to inherit attributes and methods from another class (called a base or parent class)`\n",
    "- `you can define a child class that inherits from a parent class by including the parent class in parentheses after the child class name.`\n",
    "- `Parent class is the class being inherited from, also called base class.`\n",
    "- `Child class is the class that inherits from another class, also called derived class.`"
   ]
  },
  {
   "cell_type": "markdown",
   "id": "6f61b1f2-be00-4e57-a33d-b553ba750af6",
   "metadata": {},
   "source": [
    "### Create a Parent Class"
   ]
  },
  {
   "cell_type": "code",
   "execution_count": 1,
   "id": "a18509e4-cf27-4aa8-815f-c9b3f83f30c9",
   "metadata": {},
   "outputs": [
    {
     "name": "stdout",
     "output_type": "stream",
     "text": [
      "John Doe\n"
     ]
    }
   ],
   "source": [
    "class Person:\n",
    "  def __init__(self, fname, lname):\n",
    "    self.firstname = fname\n",
    "    self.lastname = lname\n",
    "\n",
    "  def printname(self):\n",
    "    print(self.firstname, self.lastname)\n",
    "\n",
    "#Use the Person class to create an object, and then execute the printname method:\n",
    "\n",
    "x = Person(\"John\", \"Doe\")\n",
    "x.printname()\n"
   ]
  },
  {
   "cell_type": "markdown",
   "id": "0b67c6da-04a5-47e5-bf0e-88248ae1dc04",
   "metadata": {},
   "source": [
    "### Create a Child Class"
   ]
  },
  {
   "cell_type": "code",
   "execution_count": 8,
   "id": "9e24f2f1-ba4d-443b-a3af-cb643648d485",
   "metadata": {},
   "outputs": [
    {
     "name": "stdout",
     "output_type": "stream",
     "text": [
      "2021 Honda Civic, Fuel type: Gasoline\n",
      "Engine started\n",
      "Engine stopped\n",
      "Honk! Honk!\n"
     ]
    }
   ],
   "source": [
    "\n",
    "class Vehicle:                                  #First, we'll define the parent class Vehicle with some basic attributes and methods.\n",
    "    def __init__(self, make, model, year):\n",
    "        self.make = make\n",
    "        self.model = model\n",
    "        self.year = year\n",
    "\n",
    "    def get_info(self):\n",
    "        return f\"{self.year} {self.make} {self.model}\"\n",
    "\n",
    "    def start_engine(self):\n",
    "        return \"Engine started\"\n",
    "\n",
    "    def stop_engine(self):\n",
    "        return \"Engine stopped\"\n",
    "\n",
    "\n",
    "class Car(Vehicle):                               #Next, we'll define the child class Car that inherits from Vehicle\n",
    "    def __init__(self, make, model, year, fuel_type):\n",
    "        super().__init__(make, model, year)  # Call the parent class's __init__ method\n",
    "        self.fuel_type = fuel_type\n",
    "\n",
    "    def get_info(self):\n",
    "        parent_info = super().get_info()  # Call the parent class's get_info method\n",
    "        return f\"{parent_info}, Fuel type: {self.fuel_type}\"\n",
    "\n",
    "    def honk(self):\n",
    "        return \"Honk! Honk!\"\n",
    "car = Car(\"Honda\", \"Civic\", 2021, \"Gasoline\")\n",
    "print(car.get_info())  # Output: 2021 Honda Civic, Fuel type: Gasoline\n",
    "print(car.start_engine())  # Output: Engine started\n",
    "print(car.stop_engine())  # Output: Engine stopped\n",
    "print(car.honk())  # Output: Honk! Honk!"
   ]
  },
  {
   "cell_type": "markdown",
   "id": "97244731-3d2b-4d0a-a34e-952111cc5ffb",
   "metadata": {},
   "source": [
    "### Add the __init__() Function"
   ]
  },
  {
   "cell_type": "code",
   "execution_count": 6,
   "id": "899d5bdf-dbf5-4b1f-954d-b0397d67cfd8",
   "metadata": {},
   "outputs": [
    {
     "name": "stdout",
     "output_type": "stream",
     "text": [
      "Mike Olsen\n"
     ]
    }
   ],
   "source": [
    "class Student(Person):\n",
    "  def __init__(self, fname, lname):\n",
    "    Person.__init__(self, fname, lname)\n",
    "x = Student(\"Mike\", \"Olsen\")\n",
    "x.printname()\n"
   ]
  },
  {
   "cell_type": "markdown",
   "id": "439dc01b-aeb7-469d-b6f6-d38bcc9b15b4",
   "metadata": {},
   "source": [
    "### Use the super() Function\n",
    "the super() function in Python is used to call a method from a parent (or superclass) within a child (or subclass)."
   ]
  },
  {
   "cell_type": "code",
   "execution_count": 7,
   "id": "8a9bf501-fa18-416d-8b4d-30061ae41cf4",
   "metadata": {},
   "outputs": [
    {
     "name": "stdout",
     "output_type": "stream",
     "text": [
      "Mike Olsen\n"
     ]
    }
   ],
   "source": [
    "class Student(Person):\n",
    "  def __init__(self, fname, lname):\n",
    "    super().__init__(fname, lname)\n",
    "x = Student(\"Mike\", \"Olsen\")\n",
    "x.printname()\n"
   ]
  },
  {
   "cell_type": "code",
   "execution_count": null,
   "id": "bf9d8b9f-6abf-426a-b6c1-a7d9aa6de22c",
   "metadata": {},
   "outputs": [],
   "source": []
  }
 ],
 "metadata": {
  "kernelspec": {
   "display_name": "Python 3 (ipykernel)",
   "language": "python",
   "name": "python3"
  },
  "language_info": {
   "codemirror_mode": {
    "name": "ipython",
    "version": 3
   },
   "file_extension": ".py",
   "mimetype": "text/x-python",
   "name": "python",
   "nbconvert_exporter": "python",
   "pygments_lexer": "ipython3",
   "version": "3.9.0"
  }
 },
 "nbformat": 4,
 "nbformat_minor": 5
}
