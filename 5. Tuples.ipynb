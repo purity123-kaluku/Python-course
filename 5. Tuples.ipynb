{
 "cells": [
  {
   "cell_type": "markdown",
   "id": "e1a85c6a-15d2-46a5-98b2-8fb2d15b3f2e",
   "metadata": {},
   "source": [
    "## Tuples"
   ]
  },
  {
   "cell_type": "markdown",
   "id": "ed9bcdca-df7a-4937-895a-b6a25edecfa4",
   "metadata": {
    "jp-MarkdownHeadingCollapsed": true
   },
   "source": [
    "Tuples in Python are immutable sequences, typically used to store collections of heterogeneous data. Once a tuple is created, its contents cannot be altered, making it useful for data that should not change. Here's a comprehensive guide to understanding and using tuples in Python:\n",
    "\n",
    "### Creating Tuples\n",
    "\n",
    "1. **Using parentheses `()`**\n",
    "   ```python\n",
    "   my_tuple = (1, 2, 3)\n",
    "   ```\n",
    "\n",
    "2. **Without parentheses (comma-separated values)**\n",
    "   ```python\n",
    "   my_tuple = 1, 2, 3\n",
    "   ```\n",
    "\n",
    "3. **Single-element tuples** (note the trailing comma)\n",
    "   ```python\n",
    "   single_element_tuple = (1,)\n",
    "   ```\n",
    "\n",
    "4. **Using the `tuple()` function**\n",
    "   ```python\n",
    "   my_tuple = tuple([1, 2, 3])\n",
    "   ```\n",
    "\n",
    "### Accessing Tuple Elements\n",
    "\n",
    "- **Using indexing**\n",
    "  ```python\n",
    "  my_tuple = (1, 2, 3)\n",
    "  print(my_tuple[0])  # Output: 1\n",
    "  ```\n",
    "\n",
    "- **Using negative indexing**\n",
    "  ```python\n",
    "  my_tuple = (1, 2, 3)\n",
    "  print(my_tuple[-1])  # Output: 3\n",
    "  ```\n",
    "\n",
    "- **Slicing**\n",
    "  ```python\n",
    "  my_tuple = (1, 2, 3, 4, 5)\n",
    "  print(my_tuple[1:3])  # Output: (2, 3)\n",
    "  ```\n",
    "\n",
    "### Tuple Operations\n",
    "\n",
    "1. **Concatenation**\n",
    "   ```python\n",
    "   tuple1 = (1, 2)\n",
    "   tuple2 = (3, 4)\n",
    "   result = tuple1 + tuple2\n",
    "   print(result)  # Output: (1, 2, 3, 4)\n",
    "   ```\n",
    "\n",
    "2. **Repetition**\n",
    "   ```python\n",
    "   my_tuple = (1, 2)\n",
    "   result = my_tuple * 3\n",
    "   print(result)  # Output: (1, 2, 1, 2, 1, 2)\n",
    "   ```\n",
    "\n",
    "3. **Membership Testing**\n",
    "   ```python\n",
    "   my_tuple = (1, 2, 3)\n",
    "   print(2 in my_tuple)    # Output: True\n",
    "   print(4 not in my_tuple)  # Output: True\n",
    "   ```\n",
    "\n",
    "4. **Length**\n",
    "   ```python\n",
    "   my_tuple = (1, 2, 3)\n",
    "   print(len(my_tuple))  # Output: 3\n",
    "   ```\n",
    "\n",
    "5. **Iteration**\n",
    "   ```python\n",
    "   my_tuple = (1, 2, 3)\n",
    "   for item in my_tuple:\n",
    "       print(item)\n",
    "   # Output:\n",
    "   # 1\n",
    "   # 2\n",
    "   # 3\n",
    "   ```\n",
    "\n",
    "### Tuple Methods\n",
    "\n",
    "1. **`.count(x)`** - Returns the number of times `x` appears in the tuple.\n",
    "   ```python\n",
    "   my_tuple = (1, 2, 3, 1, 1)\n",
    "   print(my_tuple.count(1))  # Output: 3\n",
    "   ```\n",
    "\n",
    "2. **`.index(x)`** - Returns the index of the first occurrence of `x` in the tuple.\n",
    "   ```python\n",
    "   my_tuple = (1, 2, 3, 1, 1)\n",
    "   print(my_tuple.index(2))  # Output: 1\n",
    "   ```\n",
    "\n",
    "### Nesting and Unpacking Tuples\n",
    "\n",
    "1. **Nesting Tuples**\n",
    "   ```python\n",
    "   nested_tuple = (1, (2, 3), (4, 5, 6))\n",
    "   print(nested_tuple[1])  # Output: (2, 3)\n",
    "   print(nested_tuple[1][1])  # Output: 3\n",
    "   ```\n",
    "\n",
    "2. **Unpacking Tuples**\n",
    "   ```python\n",
    "   my_tuple = (1, 2, 3)\n",
    "   a, b, c = my_tuple\n",
    "   print(a, b, c)  # Output: 1 2 3\n",
    "   ```\n",
    "\n",
    "   - **Using the asterisk `*` for variable-length unpacking**\n",
    "   ```python\n",
    "   my_tuple = (1, 2, 3, 4, 5)\n",
    "   a, *b, c = my_tuple\n",
    "   print(a)  # Output: 1\n",
    "   print(b)  # Output: [2, 3, 4]\n",
    "   print(c)  # Output: 5\n",
    "   ```\n",
    "\n",
    "### Example Usage\n",
    "\n",
    "Here's a simple example demonstrating various tuple operations:\n",
    "\n",
    "```python\n",
    "# Creating a tuple\n",
    "person = (\"Alice\", 30, \"New York\")\n",
    "\n",
    "# Accessing elements\n",
    "name = person[0]\n",
    "age = person[1]\n",
    "city = person[2]\n",
    "\n",
    "print(f\"Name: {name}, Age: {age}, City: {city}\")\n",
    "\n",
    "# Unpacking the tuple\n",
    "name, age, city = person\n",
    "print(f\"Name: {name}, Age: {age}, City: {city}\")\n",
    "\n",
    "# Nested tuple\n",
    "nested_tuple = (\"Alice\", (30, \"New York\"))\n",
    "print(nested_tuple[1])  # Output: (30, 'New York')\n",
    "\n",
    "# Looping through a tuple\n",
    "for item in person:\n",
    "    print(item)\n",
    "\n",
    "# Tuple methods\n",
    "print(person.count(\"Alice\"))  # Output: 1\n",
    "print(person.index(30))  # Output: 1\n",
    "```\n",
    "\n",
    "### Immutability and Use Cases\n",
    "\n",
    "The immutability of tuples makes them useful in scenarios where you need a collection of items that should not be changed. Common use cases include:\n",
    "\n",
    "- Returning multiple values from a function.\n",
    "- Using tuples as keys in dictionaries (since they are hashable).\n",
    "- Grouping related data together without the overhead of a class.\n",
    "\n",
    "By understanding and effectively using tuples, you can handle immutable collections of data in Python efficiently.\n",
    "\n",
    "\n"
   ]
  },
  {
   "cell_type": "markdown",
   "id": "54c8f411-868f-479f-9766-3ad3e1d85167",
   "metadata": {},
   "source": [
    "### creating tuples"
   ]
  },
  {
   "cell_type": "code",
   "execution_count": 3,
   "id": "204e5a91-0b7e-4bb7-a929-23b16bf531a6",
   "metadata": {
    "scrolled": true
   },
   "outputs": [
    {
     "name": "stdout",
     "output_type": "stream",
     "text": [
      "('purity', 'matroba', 'keith')\n"
     ]
    }
   ],
   "source": [
    "mytuple=('purity','matroba','keith')\n",
    "print(mytuple)"
   ]
  },
  {
   "cell_type": "markdown",
   "id": "a3d8ebb4-994e-43d7-805a-0892713461cc",
   "metadata": {},
   "source": [
    "### printing the length of tuples"
   ]
  },
  {
   "cell_type": "code",
   "execution_count": 4,
   "id": "e4066af4-90f9-4beb-9ca2-48801a50e7e0",
   "metadata": {},
   "outputs": [
    {
     "name": "stdout",
     "output_type": "stream",
     "text": [
      "3\n"
     ]
    }
   ],
   "source": [
    "print(len(mytuple))"
   ]
  },
  {
   "cell_type": "markdown",
   "id": "babdb771-b756-4839-9763-c27ffa5c94d9",
   "metadata": {},
   "source": [
    "### accessing tuple items"
   ]
  },
  {
   "cell_type": "code",
   "execution_count": 5,
   "id": "d479310f-f486-42b0-b977-a632bb790ef6",
   "metadata": {
    "scrolled": true
   },
   "outputs": [
    {
     "name": "stdout",
     "output_type": "stream",
     "text": [
      "matroba\n"
     ]
    }
   ],
   "source": [
    "print(mytuple[1]) #this prints the second item in the tuple"
   ]
  },
  {
   "cell_type": "markdown",
   "id": "b8e88e7b-37a9-483d-ae80-329a6e4d8169",
   "metadata": {},
   "source": [
    "### printing range of indexes"
   ]
  },
  {
   "cell_type": "code",
   "execution_count": 6,
   "id": "5955591d-11a5-41ff-a63e-5aaf4fb245d8",
   "metadata": {},
   "outputs": [
    {
     "name": "stdout",
     "output_type": "stream",
     "text": [
      "(3, 4, 5)\n"
     ]
    }
   ],
   "source": [
    "mytuple=(1,2,3,4,5,6)\n",
    "print(mytuple[2:5])"
   ]
  },
  {
   "cell_type": "code",
   "execution_count": 7,
   "id": "e4aa9fbe-23c5-49cc-97bc-492ef5698fa6",
   "metadata": {},
   "outputs": [
    {
     "name": "stdout",
     "output_type": "stream",
     "text": [
      "(1, 2, 3, 4)\n"
     ]
    }
   ],
   "source": [
    "print(mytuple[:4])"
   ]
  },
  {
   "cell_type": "code",
   "execution_count": 8,
   "id": "d726985c-a4d3-4e14-880a-d36dffbd244d",
   "metadata": {},
   "outputs": [
    {
     "name": "stdout",
     "output_type": "stream",
     "text": [
      "(3, 4, 5)\n"
     ]
    }
   ],
   "source": [
    "print(mytuple[-4:-1])"
   ]
  },
  {
   "cell_type": "markdown",
   "id": "d78b1a01-169a-49bf-b2b0-4ee0ea644ea1",
   "metadata": {},
   "source": [
    "### change tuple values"
   ]
  },
  {
   "cell_type": "code",
   "execution_count": 9,
   "id": "dc2a24d5-1ea0-4eb7-9d9e-82f30af2445f",
   "metadata": {},
   "outputs": [
    {
     "name": "stdout",
     "output_type": "stream",
     "text": [
      "['pen', 'rubber', 'book']\n"
     ]
    }
   ],
   "source": [
    "x = (\"pen\",\"pencil\",\"book\")\n",
    "y = list(x)\n",
    "y[1]=\"rubber\"\n",
    "print(y)"
   ]
  },
  {
   "cell_type": "markdown",
   "id": "81f892bb-39ec-4e11-8a2a-a57c1ac27215",
   "metadata": {},
   "source": [
    "### adding items to a tuple"
   ]
  },
  {
   "cell_type": "code",
   "execution_count": 10,
   "id": "e007826b-7613-4c1e-912e-b2d25e52df70",
   "metadata": {},
   "outputs": [
    {
     "name": "stdout",
     "output_type": "stream",
     "text": [
      "['orange', 'banana', 'cherry', 'apple']\n"
     ]
    }
   ],
   "source": [
    "thistuple=(\"orange\",\"banana\",\"cherry\")\n",
    "y = list(thistuple)\n",
    "y.append(\"apple\")\n",
    "print(y)"
   ]
  },
  {
   "cell_type": "code",
   "execution_count": 11,
   "id": "f275a44a-09e9-4ad2-8024-90b6c5b0e2db",
   "metadata": {},
   "outputs": [
    {
     "name": "stdout",
     "output_type": "stream",
     "text": [
      "('orange', 'banana', 'cherry', 'apple')\n"
     ]
    }
   ],
   "source": [
    "thistuple=(\"orange\",\"banana\",\"cherry\")\n",
    "x = (\"apple\",)\n",
    "thistuple += x\n",
    "print(thistuple)"
   ]
  },
  {
   "cell_type": "markdown",
   "id": "d1d45c8d-ce1b-4d30-9734-06700790416d",
   "metadata": {},
   "source": [
    "### unpacking tuples\n",
    "- `- this is extracting the values back into the variables`"
   ]
  },
  {
   "cell_type": "code",
   "execution_count": 12,
   "id": "dce50f58-7906-42c4-b71d-4b21048df14f",
   "metadata": {},
   "outputs": [
    {
     "name": "stdout",
     "output_type": "stream",
     "text": [
      "apples\n",
      "oranges\n",
      "cherry\n"
     ]
    }
   ],
   "source": [
    "fruits=(\"apples\",\"oranges\",\"cherry\")\n",
    "(green,yellow,red)=fruits\n",
    "print(green)\n",
    "print(yellow)\n",
    "print(red)"
   ]
  },
  {
   "cell_type": "markdown",
   "id": "39b27f04-fee7-4de2-b672-89ce91de5e44",
   "metadata": {},
   "source": [
    "### loop through a tuple"
   ]
  },
  {
   "cell_type": "code",
   "execution_count": 13,
   "id": "6555a18d-e2fe-43c4-b9b8-1ab0dbd6df7a",
   "metadata": {},
   "outputs": [
    {
     "name": "stdout",
     "output_type": "stream",
     "text": [
      "jane\n",
      "rose\n",
      "grace\n"
     ]
    }
   ],
   "source": [
    "mytuple=(\"jane\",\"rose\",\"grace\") \n",
    "for x in mytuple:\n",
    "    print(x)"
   ]
  },
  {
   "cell_type": "code",
   "execution_count": 14,
   "id": "d5e89e9f-00fe-45a4-80f0-7608b41ace73",
   "metadata": {},
   "outputs": [
    {
     "name": "stdout",
     "output_type": "stream",
     "text": [
      "0\n",
      "1\n",
      "2\n"
     ]
    }
   ],
   "source": [
    "mytuple=(\"jane\",\"rose\",\"grace\")\n",
    "for i in range(len(mytuple)):\n",
    "   print(i)"
   ]
  },
  {
   "cell_type": "code",
   "execution_count": 15,
   "id": "374e117b-1c11-442d-a6e3-987f6996146b",
   "metadata": {},
   "outputs": [
    {
     "name": "stdout",
     "output_type": "stream",
     "text": [
      "jane\n",
      "rose\n",
      "grace\n"
     ]
    }
   ],
   "source": [
    "mytuple=(\"jane\",\"rose\",\"grace\")\n",
    "i=0\n",
    "while i < len(mytuple):\n",
    "   print(mytuple[i])\n",
    "   i = i+1"
   ]
  },
  {
   "cell_type": "markdown",
   "id": "e023daa4-d315-4768-8a91-f0e777a45e30",
   "metadata": {},
   "source": [
    "### joining tuples\n",
    "- `- we use + operator to join two or more tuples`"
   ]
  },
  {
   "cell_type": "code",
   "execution_count": 16,
   "id": "d8ddad96-dbb3-4436-bec9-3720b04f4fe1",
   "metadata": {},
   "outputs": [
    {
     "name": "stdout",
     "output_type": "stream",
     "text": [
      "('jane', 'rose', 'grace', 1, 2, 3)\n"
     ]
    }
   ],
   "source": [
    "tuple1 = (\"jane\",\"rose\",\"grace\")\n",
    "tuple2 = (1,2,3)\n",
    "tuple3 = tuple1 + tuple2\n",
    "print(tuple3)"
   ]
  },
  {
   "cell_type": "code",
   "execution_count": null,
   "id": "191a3fad-4ac4-4493-a5b5-8f4dc4431b5e",
   "metadata": {},
   "outputs": [],
   "source": []
  }
 ],
 "metadata": {
  "kernelspec": {
   "display_name": "Python 3 (ipykernel)",
   "language": "python",
   "name": "python3"
  },
  "language_info": {
   "codemirror_mode": {
    "name": "ipython",
    "version": 3
   },
   "file_extension": ".py",
   "mimetype": "text/x-python",
   "name": "python",
   "nbconvert_exporter": "python",
   "pygments_lexer": "ipython3",
   "version": "3.9.0"
  }
 },
 "nbformat": 4,
 "nbformat_minor": 5
}
