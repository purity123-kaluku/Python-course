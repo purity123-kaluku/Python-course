{
 "cells": [
  {
   "cell_type": "markdown",
   "id": "e464df1b-4a67-414d-b813-d11fc4c633af",
   "metadata": {},
   "source": [
    "## python scope\n",
    "scope refers to the region of the code where a particular variable or function is accessible. "
   ]
  },
  {
   "cell_type": "markdown",
   "id": "9b97baf2-9c9c-4026-aca6-2f45003a850c",
   "metadata": {},
   "source": [
    "### Local Scope\n",
    "A variable created inside a function belongs to the local scope of that function, and can only be used inside that function."
   ]
  },
  {
   "cell_type": "code",
   "execution_count": 1,
   "id": "b708f7ef-d7fe-49ae-a093-b86b16aa3370",
   "metadata": {},
   "outputs": [
    {
     "name": "stdout",
     "output_type": "stream",
     "text": [
      "300\n"
     ]
    }
   ],
   "source": [
    "def myfunc():\n",
    "  x = 300\n",
    "  print(x)\n",
    "\n",
    "myfunc()"
   ]
  },
  {
   "cell_type": "code",
   "execution_count": 2,
   "id": "a6e6a960-a34e-4397-9089-f41ee9eba447",
   "metadata": {},
   "outputs": [
    {
     "name": "stdout",
     "output_type": "stream",
     "text": [
      "300\n"
     ]
    }
   ],
   "source": [
    "def myfunc():\n",
    "  x = 300\n",
    "  def myinnerfunc():\n",
    "    print(x)\n",
    "  myinnerfunc()\n",
    "\n",
    "myfunc()"
   ]
  },
  {
   "cell_type": "code",
   "execution_count": 4,
   "id": "5db9a6ff-3c03-4f9c-807e-162cf762bec5",
   "metadata": {},
   "outputs": [
    {
     "name": "stdout",
     "output_type": "stream",
     "text": [
      "10\n"
     ]
    }
   ],
   "source": [
    "def my_function():\n",
    "    local_var = 10\n",
    "    print(local_var)  # Accessible within this function\n",
    "\n",
    "my_function()\n",
    "# print(local_var)  # Error: local_var is not defined outside the function\n"
   ]
  },
  {
   "cell_type": "markdown",
   "id": "fc0a5525-4e22-4632-b919-e12dc2eb7aa3",
   "metadata": {},
   "source": [
    "### Global Scope\n",
    "A variable created in the main body of the Python code is a global variable and belongs to the global scope."
   ]
  },
  {
   "cell_type": "code",
   "execution_count": 3,
   "id": "5789f401-c1b6-4c25-a9d5-9e06e4a06713",
   "metadata": {},
   "outputs": [
    {
     "name": "stdout",
     "output_type": "stream",
     "text": [
      "200\n",
      "300\n"
     ]
    }
   ],
   "source": [
    "x = 300\n",
    "\n",
    "def myfunc():\n",
    "  x = 200\n",
    "  print(x)\n",
    "\n",
    "myfunc()\n",
    "\n",
    "print(x)"
   ]
  },
  {
   "cell_type": "code",
   "execution_count": 5,
   "id": "f9d50a87-33f0-4744-9a43-af35a3d942e1",
   "metadata": {},
   "outputs": [
    {
     "name": "stdout",
     "output_type": "stream",
     "text": [
      "global\n",
      "global\n"
     ]
    }
   ],
   "source": [
    "global_var = 'global'\n",
    "\n",
    "def my_function():\n",
    "    print(global_var)  # Accessible within the function\n",
    "\n",
    "my_function()\n",
    "print(global_var)  # Accessible outside the function\n"
   ]
  },
  {
   "cell_type": "code",
   "execution_count": null,
   "id": "a7516d35-d26f-472e-8075-266aa2ba033e",
   "metadata": {},
   "outputs": [],
   "source": []
  }
 ],
 "metadata": {
  "kernelspec": {
   "display_name": "Python 3 (ipykernel)",
   "language": "python",
   "name": "python3"
  },
  "language_info": {
   "codemirror_mode": {
    "name": "ipython",
    "version": 3
   },
   "file_extension": ".py",
   "mimetype": "text/x-python",
   "name": "python",
   "nbconvert_exporter": "python",
   "pygments_lexer": "ipython3",
   "version": "3.9.0"
  }
 },
 "nbformat": 4,
 "nbformat_minor": 5
}
