{
 "cells": [
  {
   "cell_type": "markdown",
   "id": "165b6c7f-9ebc-47ed-94e7-f743721a73f8",
   "metadata": {},
   "source": [
    "## python lambda\n",
    "- A `lambda function` is a small anonymous function.\n",
    "- A `lambda function` can take any number of arguments, but can only have one expression"
   ]
  },
  {
   "cell_type": "markdown",
   "id": "4a791c2c-a885-48a1-bfb9-8f429620f250",
   "metadata": {},
   "source": [
    "### syntax"
   ]
  },
  {
   "cell_type": "code",
   "execution_count": 10,
   "id": "7a2f5c72-d5fe-447d-bd37-5981c0e795c2",
   "metadata": {},
   "outputs": [
    {
     "data": {
      "text/plain": [
       "<function __main__.<lambda>(arguments)>"
      ]
     },
     "execution_count": 10,
     "metadata": {},
     "output_type": "execute_result"
    }
   ],
   "source": [
    "lambda arguments: expression\n"
   ]
  },
  {
   "cell_type": "markdown",
   "id": "ae931f54-397c-4454-a011-4b0cebfb3dd5",
   "metadata": {},
   "source": [
    "### Examples of Lambda Functions"
   ]
  },
  {
   "cell_type": "code",
   "execution_count": 1,
   "id": "248441ea-4187-4641-8e42-417c942d4520",
   "metadata": {},
   "outputs": [
    {
     "name": "stdout",
     "output_type": "stream",
     "text": [
      "15\n"
     ]
    }
   ],
   "source": [
    "def add_ten(val):\n",
    "    print(val + 10)\n",
    "add_ten(5)"
   ]
  },
  {
   "cell_type": "code",
   "execution_count": 11,
   "id": "092c466d-43c6-4ff4-901a-b020619e79fa",
   "metadata": {},
   "outputs": [
    {
     "name": "stdout",
     "output_type": "stream",
     "text": [
      "15\n"
     ]
    }
   ],
   "source": [
    "x = lambda a : a + 10  #Add 10 to argument a, and return the result\n",
    "print(x(5))"
   ]
  },
  {
   "cell_type": "code",
   "execution_count": 12,
   "id": "0613e88f-de64-49bd-b59b-91c8329512f5",
   "metadata": {},
   "outputs": [
    {
     "name": "stdout",
     "output_type": "stream",
     "text": [
      "30\n"
     ]
    }
   ],
   "source": [
    "x = lambda a, b : a * b   #Multiply argument a with argument b and return the result:\n",
    "print(x(5, 6))"
   ]
  },
  {
   "cell_type": "code",
   "execution_count": 13,
   "id": "26e7d2b8-1767-4da1-918f-59228c6cfc96",
   "metadata": {},
   "outputs": [
    {
     "name": "stdout",
     "output_type": "stream",
     "text": [
      "13\n"
     ]
    }
   ],
   "source": [
    "x = lambda a, b, c : a + b + c   #Summarize argument a, b, and c and return the result\n",
    "print(x(5, 6, 2))"
   ]
  },
  {
   "cell_type": "code",
   "execution_count": 14,
   "id": "888ef2fe-84f3-4e83-9d03-8bfcc712f421",
   "metadata": {},
   "outputs": [
    {
     "name": "stdout",
     "output_type": "stream",
     "text": [
      "22\n"
     ]
    }
   ],
   "source": [
    "def myfunc(n):\n",
    "  return lambda a : a * n\n",
    "\n",
    "mydoubler = myfunc(2)\n",
    "\n",
    "print(mydoubler(11))"
   ]
  },
  {
   "cell_type": "code",
   "execution_count": 15,
   "id": "863cafd4-321c-4cc8-8c82-85fbc0281db4",
   "metadata": {},
   "outputs": [
    {
     "name": "stdout",
     "output_type": "stream",
     "text": [
      "33\n"
     ]
    }
   ],
   "source": [
    "def myfunc(n):\n",
    "  return lambda a : a * n\n",
    "\n",
    "mytripler = myfunc(3)\n",
    "\n",
    "print(mytripler(11))"
   ]
  },
  {
   "cell_type": "code",
   "execution_count": 16,
   "id": "f72c6026-4c06-4728-a062-3e3f6471a453",
   "metadata": {},
   "outputs": [
    {
     "name": "stdout",
     "output_type": "stream",
     "text": [
      "22\n",
      "33\n"
     ]
    }
   ],
   "source": [
    "def myfunc(n):\n",
    "  return lambda a : a * n\n",
    "\n",
    "mydoubler = myfunc(2)\n",
    "mytripler = myfunc(3)\n",
    "\n",
    "print(mydoubler(11))\n",
    "print(mytripler(11))"
   ]
  },
  {
   "cell_type": "code",
   "execution_count": 3,
   "id": "e6c14b23-9c3d-4bac-93f1-13716028b8b8",
   "metadata": {},
   "outputs": [
    {
     "data": {
      "text/plain": [
       "'e'"
      ]
     },
     "execution_count": 3,
     "metadata": {},
     "output_type": "execute_result"
    }
   ],
   "source": [
    "z = lambda w : w[-1]\n",
    "z(\"code\")"
   ]
  },
  {
   "cell_type": "code",
   "execution_count": 4,
   "id": "f53adf22-bee4-4d9a-a24a-377a2e2c5ec0",
   "metadata": {},
   "outputs": [
    {
     "data": {
      "text/plain": [
       "'p'"
      ]
     },
     "execution_count": 4,
     "metadata": {},
     "output_type": "execute_result"
    }
   ],
   "source": [
    "def thisfunc(w):\n",
    "    return w[0]\n",
    "\n",
    "thisfunc(\"purity\")"
   ]
  },
  {
   "cell_type": "code",
   "execution_count": null,
   "id": "cca83248-8cd6-4dd7-9009-974e397dc991",
   "metadata": {},
   "outputs": [],
   "source": []
  }
 ],
 "metadata": {
  "kernelspec": {
   "display_name": "Python 3 (ipykernel)",
   "language": "python",
   "name": "python3"
  },
  "language_info": {
   "codemirror_mode": {
    "name": "ipython",
    "version": 3
   },
   "file_extension": ".py",
   "mimetype": "text/x-python",
   "name": "python",
   "nbconvert_exporter": "python",
   "pygments_lexer": "ipython3",
   "version": "3.9.0"
  }
 },
 "nbformat": 4,
 "nbformat_minor": 5
}
