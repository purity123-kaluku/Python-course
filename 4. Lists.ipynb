{
 "cells": [
  {
   "cell_type": "markdown",
   "id": "4c120b6b-999d-4e41-8c40-12b7a31cb19a",
   "metadata": {},
   "source": [
    "# Lists"
   ]
  },
  {
   "cell_type": "markdown",
   "id": "19e2e132-3496-47d9-a26a-22658e8fc92c",
   "metadata": {},
   "source": [
    "- mutable -> values can be changed after initialization\n",
    "- orderd -> values are ordered as when created"
   ]
  },
  {
   "cell_type": "markdown",
   "id": "b66a285d-5c77-4672-8d48-c898e9f3d908",
   "metadata": {},
   "source": [
    "## creating a list"
   ]
  },
  {
   "cell_type": "markdown",
   "id": "78d7e4dc-c3c3-4bc0-bc63-b3bc4f556c5a",
   "metadata": {},
   "source": [
    "### method 1"
   ]
  },
  {
   "cell_type": "code",
   "execution_count": 1,
   "id": "e4c9a706-fff2-48eb-b7a7-e83e33266bbd",
   "metadata": {},
   "outputs": [
    {
     "name": "stdout",
     "output_type": "stream",
     "text": [
      "[1, 2, 3]\n"
     ]
    }
   ],
   "source": [
    "list1 = [1,2,3]\n",
    "print(list1)\n"
   ]
  },
  {
   "cell_type": "markdown",
   "id": "d423189d-a072-4df2-8bff-a92d7c062e81",
   "metadata": {},
   "source": [
    "### method 2"
   ]
  },
  {
   "cell_type": "code",
   "execution_count": 2,
   "id": "a57176e3-4ff9-4570-b2fb-18a74e48e65b",
   "metadata": {},
   "outputs": [
    {
     "name": "stdout",
     "output_type": "stream",
     "text": [
      "[]\n"
     ]
    }
   ],
   "source": [
    "#create an empty list\n",
    "list2 = list()\n",
    "print(list2)"
   ]
  },
  {
   "cell_type": "markdown",
   "id": "7b07102b-58a7-4a97-99ce-c96cd1937c10",
   "metadata": {},
   "source": [
    "## adding items to a list"
   ]
  },
  {
   "cell_type": "code",
   "execution_count": 3,
   "id": "ae0cd1f3-7cdb-462c-a33e-748cf8445b94",
   "metadata": {},
   "outputs": [],
   "source": [
    "# adding items to an empty list\n",
    "list2.append('Brenda')"
   ]
  },
  {
   "cell_type": "code",
   "execution_count": 4,
   "id": "623e0304-5083-438a-bcfd-60c6918ced86",
   "metadata": {},
   "outputs": [
    {
     "data": {
      "text/plain": [
       "['Brenda']"
      ]
     },
     "execution_count": 4,
     "metadata": {},
     "output_type": "execute_result"
    }
   ],
   "source": [
    "list2"
   ]
  },
  {
   "cell_type": "code",
   "execution_count": 5,
   "id": "4fcbd770-e043-4d00-9e46-9ea9dc894642",
   "metadata": {},
   "outputs": [],
   "source": [
    "list1.append(4)"
   ]
  },
  {
   "cell_type": "code",
   "execution_count": 6,
   "id": "631efc34-8437-4824-ab7a-45d902398e67",
   "metadata": {},
   "outputs": [
    {
     "data": {
      "text/plain": [
       "[1, 2, 3, 4]"
      ]
     },
     "execution_count": 6,
     "metadata": {},
     "output_type": "execute_result"
    }
   ],
   "source": [
    "list1"
   ]
  },
  {
   "cell_type": "code",
   "execution_count": 7,
   "id": "e0d8cc32-9067-45fe-8673-a55ea07a07ca",
   "metadata": {},
   "outputs": [],
   "source": [
    "list1.append('purity')"
   ]
  },
  {
   "cell_type": "code",
   "execution_count": 8,
   "id": "e8525434-7a9c-4515-bb37-b061fa4f66b8",
   "metadata": {},
   "outputs": [
    {
     "data": {
      "text/plain": [
       "[1, 2, 3, 4, 'purity']"
      ]
     },
     "execution_count": 8,
     "metadata": {},
     "output_type": "execute_result"
    }
   ],
   "source": [
    "list1"
   ]
  },
  {
   "cell_type": "markdown",
   "id": "aae58625-80d9-4a8d-a610-46c8f9112c5a",
   "metadata": {},
   "source": [
    "## removing an item from a list"
   ]
  },
  {
   "cell_type": "code",
   "execution_count": 9,
   "id": "c92da237-12ea-4524-aa79-f06ef629c078",
   "metadata": {},
   "outputs": [
    {
     "data": {
      "text/plain": [
       "'purity'"
      ]
     },
     "execution_count": 9,
     "metadata": {},
     "output_type": "execute_result"
    }
   ],
   "source": [
    "list1.pop()"
   ]
  },
  {
   "cell_type": "code",
   "execution_count": 10,
   "id": "ca30845c-1bd0-4dad-bdcd-e9ceca681735",
   "metadata": {},
   "outputs": [
    {
     "data": {
      "text/plain": [
       "[1, 2, 3, 4]"
      ]
     },
     "execution_count": 10,
     "metadata": {},
     "output_type": "execute_result"
    }
   ],
   "source": [
    "list1"
   ]
  },
  {
   "cell_type": "markdown",
   "id": "aa92bf6a-15d7-497f-b1c9-3663339edff1",
   "metadata": {},
   "source": [
    "## saving a popped item"
   ]
  },
  {
   "cell_type": "code",
   "execution_count": 11,
   "id": "bf836fcf-be40-4f24-979f-cc3c03ca2301",
   "metadata": {},
   "outputs": [],
   "source": [
    "popped = list1.pop()"
   ]
  },
  {
   "cell_type": "code",
   "execution_count": 12,
   "id": "d4512584-d65f-43f6-a873-2c664b533843",
   "metadata": {},
   "outputs": [
    {
     "data": {
      "text/plain": [
       "4"
      ]
     },
     "execution_count": 12,
     "metadata": {},
     "output_type": "execute_result"
    }
   ],
   "source": [
    "popped"
   ]
  },
  {
   "cell_type": "markdown",
   "id": "03cf7464-047c-44a2-b8b2-8631f3103809",
   "metadata": {},
   "source": [
    "## merging list1 and list2\n",
    "- `list1.extend(list2)`-list2 will be added to list1\n",
    "- `list2.extend(list1)`-list1 will be added to list2"
   ]
  },
  {
   "cell_type": "code",
   "execution_count": 13,
   "id": "405bc726-0dd9-4d2e-99e8-1926f140c043",
   "metadata": {},
   "outputs": [],
   "source": [
    "list1.extend(list2)"
   ]
  },
  {
   "cell_type": "code",
   "execution_count": 14,
   "id": "906984fb-0ac9-4f42-8d25-82a0e088df2e",
   "metadata": {},
   "outputs": [
    {
     "data": {
      "text/plain": [
       "[1, 2, 3, 'Brenda']"
      ]
     },
     "execution_count": 14,
     "metadata": {},
     "output_type": "execute_result"
    }
   ],
   "source": [
    "list1"
   ]
  },
  {
   "cell_type": "markdown",
   "id": "3f61ed4c-6d29-469e-9ce8-3682fd80f1f9",
   "metadata": {},
   "source": [
    "## emptying a list"
   ]
  },
  {
   "cell_type": "code",
   "execution_count": 15,
   "id": "4147c278-1da6-42aa-9f25-96627f711ed9",
   "metadata": {},
   "outputs": [],
   "source": [
    "list2.clear()"
   ]
  },
  {
   "cell_type": "code",
   "execution_count": 16,
   "id": "f4a49f17-19ac-4fcd-a261-24c3ca21e764",
   "metadata": {},
   "outputs": [
    {
     "data": {
      "text/plain": [
       "[]"
      ]
     },
     "execution_count": 16,
     "metadata": {},
     "output_type": "execute_result"
    }
   ],
   "source": [
    "list2"
   ]
  },
  {
   "cell_type": "markdown",
   "id": "aa937dc6-99ab-427f-b322-13c3dfaf19d4",
   "metadata": {},
   "source": [
    "## deleting the entire list"
   ]
  },
  {
   "cell_type": "code",
   "execution_count": 17,
   "id": "b26404aa-a59a-4971-931f-e5f3a55fdb3b",
   "metadata": {},
   "outputs": [],
   "source": [
    "del(list2)"
   ]
  },
  {
   "cell_type": "code",
   "execution_count": 18,
   "id": "e99c610d-e8f7-4298-ae4a-0e1ed50f8789",
   "metadata": {},
   "outputs": [
    {
     "ename": "NameError",
     "evalue": "name 'list2' is not defined",
     "output_type": "error",
     "traceback": [
      "\u001b[1;31m---------------------------------------------------------------------------\u001b[0m",
      "\u001b[1;31mNameError\u001b[0m                                 Traceback (most recent call last)",
      "Cell \u001b[1;32mIn[18], line 1\u001b[0m\n\u001b[1;32m----> 1\u001b[0m \u001b[43mlist2\u001b[49m\n",
      "\u001b[1;31mNameError\u001b[0m: name 'list2' is not defined"
     ]
    }
   ],
   "source": [
    "list2"
   ]
  },
  {
   "cell_type": "markdown",
   "id": "f38b44f7-245e-45c2-9af8-2caf9f24c48f",
   "metadata": {},
   "source": [
    "## inserting an item into a list"
   ]
  },
  {
   "cell_type": "code",
   "execution_count": 19,
   "id": "74e5e499-9a59-422c-a7c0-d2f92bd03979",
   "metadata": {},
   "outputs": [],
   "source": [
    "list1.insert(1, 'zuri')"
   ]
  },
  {
   "cell_type": "code",
   "execution_count": 20,
   "id": "f7fe78be-f493-476f-af0f-47ed5af6b9c8",
   "metadata": {},
   "outputs": [
    {
     "data": {
      "text/plain": [
       "[1, 'zuri', 2, 3, 'Brenda']"
      ]
     },
     "execution_count": 20,
     "metadata": {},
     "output_type": "execute_result"
    }
   ],
   "source": [
    "list1"
   ]
  },
  {
   "cell_type": "code",
   "execution_count": 21,
   "id": "442a5d62-6de1-406c-b203-962d041942e6",
   "metadata": {},
   "outputs": [],
   "source": [
    "list1.insert(2,'pen')"
   ]
  },
  {
   "cell_type": "code",
   "execution_count": 22,
   "id": "7036f682-0ae4-4441-a905-f7f39123a8e2",
   "metadata": {},
   "outputs": [
    {
     "data": {
      "text/plain": [
       "[1, 'zuri', 'pen', 2, 3, 'Brenda']"
      ]
     },
     "execution_count": 22,
     "metadata": {},
     "output_type": "execute_result"
    }
   ],
   "source": [
    "list1"
   ]
  },
  {
   "cell_type": "markdown",
   "id": "67c97578-d94c-4178-9fa4-cd60f36df6da",
   "metadata": {},
   "source": [
    "## list comprehension"
   ]
  },
  {
   "cell_type": "code",
   "execution_count": 24,
   "id": "bd890eaa-e889-44a0-ac42-2874eb4fcc0b",
   "metadata": {},
   "outputs": [
    {
     "data": {
      "text/plain": [
       "[28, 18, 39, 59, 32]"
      ]
     },
     "execution_count": 24,
     "metadata": {},
     "output_type": "execute_result"
    }
   ],
   "source": [
    "age5yrs = [23,13,34,54,27]\n",
    "\n",
    "agenow = [age+5 for age in age5yrs]\n",
    "\n",
    "agenow"
   ]
  },
  {
   "cell_type": "code",
   "execution_count": 25,
   "id": "9ee36fb7-52ad-4814-86a0-232425fbdb81",
   "metadata": {},
   "outputs": [
    {
     "name": "stdout",
     "output_type": "stream",
     "text": [
      "[28, 18, 39, 59, 32]\n"
     ]
    }
   ],
   "source": [
    "agenow2 = []\n",
    "for age in age5yrs:\n",
    "    agenow2.append(age+5)\n",
    "\n",
    "print(agenow2)"
   ]
  }
 ],
 "metadata": {
  "kernelspec": {
   "display_name": "Python 3 (ipykernel)",
   "language": "python",
   "name": "python3"
  },
  "language_info": {
   "codemirror_mode": {
    "name": "ipython",
    "version": 3
   },
   "file_extension": ".py",
   "mimetype": "text/x-python",
   "name": "python",
   "nbconvert_exporter": "python",
   "pygments_lexer": "ipython3",
   "version": "3.9.0"
  }
 },
 "nbformat": 4,
 "nbformat_minor": 5
}
