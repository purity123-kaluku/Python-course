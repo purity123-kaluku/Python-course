{
 "cells": [
  {
   "cell_type": "markdown",
   "id": "58d02b8b-e095-451c-88ba-077930c06e33",
   "metadata": {},
   "source": [
    "## sets"
   ]
  },
  {
   "cell_type": "code",
   "execution_count": 2,
   "id": "46711eb4-cb31-4519-ab6d-c2c773395b4e",
   "metadata": {},
   "outputs": [
    {
     "ename": "SyntaxError",
     "evalue": "invalid syntax (923315538.py, line 13)",
     "output_type": "error",
     "traceback": [
      "\u001b[1;36m  Cell \u001b[1;32mIn[2], line 13\u001b[1;36m\u001b[0m\n\u001b[1;33m    ```\u001b[0m\n\u001b[1;37m    ^\u001b[0m\n\u001b[1;31mSyntaxError\u001b[0m\u001b[1;31m:\u001b[0m invalid syntax\n"
     ]
    }
   ],
   "source": [
    "\n",
    "\n",
    "### Creating Sets\n",
    "# Using curly braces\n",
    "my_set = {1, 2, 3, 4, 5}\n",
    "print(my_set)  # Output: {1, 2, 3, 4, 5}\n",
    "\n",
    "# Using the set() constructor\n",
    "another_set = set([1, 2, 3, 4, 5])\n",
    "print(another_set)  # Output: {1, 2, 3, 4, 5}\n",
    "\n",
    "# Creating an empty set\n",
    "empty_set = set()\n",
    "print(empty_set)  # Output: set()\n",
    "```\n",
    "\n",
    "**Note**: You cannot create an empty set using `{}`, as this creates an empty dictionary.\n",
    "\n",
    "### Basic Set Operations\n",
    "\n",
    "- **Adding elements**: Use `add()` to add a single element and `update()` to add multiple elements.\n",
    "  \n",
    "  ```python\n",
    "  my_set = {1, 2, 3}\n",
    "  my_set.add(4)\n",
    "  print(my_set)  # Output: {1, 2, 3, 4}\n",
    "  \n",
    "  my_set.update([5, 6])\n",
    "  print(my_set)  # Output: {1, 2, 3, 4, 5, 6}\n",
    "  ```\n",
    "\n",
    "- **Removing elements**: Use `remove()` to remove a specific element (raises an error if the element is not found) and `discard()` to remove an element if it is present (does nothing if the element is not found). Use `pop()` to remove and return an arbitrary element and `clear()` to remove all elements.\n",
    "\n",
    "  ```python\n",
    "  my_set = {1, 2, 3, 4}\n",
    "  my_set.remove(3)\n",
    "  print(my_set)  # Output: {1, 2, 4}\n",
    "  \n",
    "  my_set.discard(2)\n",
    "  print(my_set)  # Output: {1, 4}\n",
    "  \n",
    "  element = my_set.pop()\n",
    "  print(element)  # Output: 1 (or 4, since sets are unordered)\n",
    "  print(my_set)  # Output: {4} (or {1})\n",
    "\n",
    "  my_set.clear()\n",
    "  print(my_set)  # Output: set()\n",
    "  ```\n",
    "\n",
    "- **Checking membership**: Use the `in` keyword to check if an element is in the set.\n",
    "\n",
    "  ```python\n",
    "  my_set = {1, 2, 3}\n",
    "  print(2 in my_set)  # Output: True\n",
    "  print(5 in my_set)  # Output: False\n",
    "  ```\n",
    "\n",
    "### Set Operations\n",
    "\n",
    "- **Union**: Combine elements from both sets using the `|` operator or `union()` method.\n",
    "  \n",
    "  ```python\n",
    "  set1 = {1, 2, 3}\n",
    "  set2 = {3, 4, 5}\n",
    "  union_set = set1 | set2\n",
    "  print(union_set)  # Output: {1, 2, 3, 4, 5}\n",
    "  \n",
    "  union_set = set1.union(set2)\n",
    "  print(union_set)  # Output: {1, 2, 3, 4, 5}\n",
    "  ```\n",
    "\n",
    "- **Intersection**: Get common elements using the `&` operator or `intersection()` method.\n",
    "\n",
    "  ```python\n",
    "  intersection_set = set1 & set2\n",
    "  print(intersection_set)  # Output: {3}\n",
    "  \n",
    "  intersection_set = set1.intersection(set2)\n",
    "  print(intersection_set)  # Output: {3}\n",
    "  ```\n",
    "\n",
    "- **Difference**: Get elements in the first set but not in the second using the `-` operator or `difference()` method.\n",
    "\n",
    "  ```python\n",
    "  difference_set = set1 - set2\n",
    "  print(difference_set)  # Output: {1, 2}\n",
    "  \n",
    "  difference_set = set1.difference(set2)\n",
    "  print(difference_set)  # Output: {1, 2}\n",
    "  ```\n",
    "\n",
    "- **Symmetric Difference**: Get elements in either set but not in both using the `^` operator or `symmetric_difference()` method.\n",
    "\n",
    "  ```python\n",
    "  sym_diff_set = set1 ^ set2\n",
    "  print(sym_diff_set)  # Output: {1, 2, 4, 5}\n",
    "  \n",
    "  sym_diff_set = set1.symmetric_difference(set2)\n",
    "  print(sym_diff_set)  # Output: {1, 2, 4, 5}\n",
    "  ```\n",
    "\n",
    "### Set Comprehensions\n",
    "\n",
    "You can create sets using comprehensions, similar to list comprehensions.\n",
    "\n",
    "```python\n",
    "squared_set = {x**2 for x in range(10)}\n",
    "print(squared_set)  # Output: {0, 1, 4, 9, 16, 25, 36, 49, 64, 81}\n",
    "```\n",
    "\n",
    "### Immutable Sets\n",
    "\n",
    "              \n",
    "Python provides `frozenset` for creating immutable sets.\n",
    "\n",
    "```python\n",
    "frozen_set = frozenset([1, 2, 3, 4])\n",
    "print(frozen_set)  # Output: frozenset({1, 2, 3, 4})\n",
    "\n",
    "# Attempting to add or remove elements will raise an AttributeError\n",
    "# frozen_set.add(5)  # AttributeError\n",
    "# frozen_set.remove(2)  # AttributeError\n",
    "```\n",
    "\n",
    "### Summary\n",
    "\n",
    "Sets in Python are powerful for ensuring uniqueness and performing set-based operations efficiently. They provide a range of methods for modifying sets and performing mathematical operations, making them a versatile tool for many programming tasks."
   ]
  },
  {
   "cell_type": "markdown",
   "id": "3595c23a-218c-496e-971c-1332ae6b49b4",
   "metadata": {},
   "source": [
    "## creating sets"
   ]
  },
  {
   "cell_type": "code",
   "execution_count": 3,
   "id": "701e9d2a-4fa1-4127-aff0-573a31ef2227",
   "metadata": {},
   "outputs": [
    {
     "name": "stdout",
     "output_type": "stream",
     "text": [
      "{'apple', 'cherry', 'banana'}\n"
     ]
    }
   ],
   "source": [
    "thisset = {\"apple\", \"banana\", \"cherry\", \"apple\"}\n",
    "print(thisset)"
   ]
  },
  {
   "cell_type": "code",
   "execution_count": null,
   "id": "c6f34b91-4fd2-444a-997f-978b8bfa0db1",
   "metadata": {},
   "outputs": [],
   "source": []
  }
 ],
 "metadata": {
  "kernelspec": {
   "display_name": "Python 3 (ipykernel)",
   "language": "python",
   "name": "python3"
  },
  "language_info": {
   "codemirror_mode": {
    "name": "ipython",
    "version": 3
   },
   "file_extension": ".py",
   "mimetype": "text/x-python",
   "name": "python",
   "nbconvert_exporter": "python",
   "pygments_lexer": "ipython3",
   "version": "3.9.0"
  }
 },
 "nbformat": 4,
 "nbformat_minor": 5
}
