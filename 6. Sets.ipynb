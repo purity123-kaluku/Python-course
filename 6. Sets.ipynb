{
 "cells": [
  {
   "cell_type": "markdown",
   "id": "58d02b8b-e095-451c-88ba-077930c06e33",
   "metadata": {},
   "source": [
    "## sets"
   ]
  },
  {
   "cell_type": "markdown",
   "id": "3595c23a-218c-496e-971c-1332ae6b49b4",
   "metadata": {},
   "source": [
    "## creating sets"
   ]
  },
  {
   "cell_type": "code",
   "execution_count": 3,
   "id": "701e9d2a-4fa1-4127-aff0-573a31ef2227",
   "metadata": {},
   "outputs": [
    {
     "name": "stdout",
     "output_type": "stream",
     "text": [
      "{'cherry', 'apple', 'banana'}\n"
     ]
    }
   ],
   "source": [
    "thisset = {\"apple\", \"banana\", \"cherry\", \"apple\"}\n",
    "print(thisset)"
   ]
  },
  {
   "cell_type": "code",
   "execution_count": 2,
   "id": "c6f34b91-4fd2-444a-997f-978b8bfa0db1",
   "metadata": {},
   "outputs": [
    {
     "name": "stdout",
     "output_type": "stream",
     "text": [
      "{1, 2, 3, 4, 5}\n"
     ]
    }
   ],
   "source": [
    "another_set = set([1, 2, 3, 4, 5])\n",
    "print(another_set)"
   ]
  },
  {
   "cell_type": "code",
   "execution_count": 4,
   "id": "eb431d8a-78ce-4281-8654-b575a6551828",
   "metadata": {},
   "outputs": [
    {
     "name": "stdout",
     "output_type": "stream",
     "text": [
      "set()\n"
     ]
    }
   ],
   "source": [
    "empty_set = set()    #you cannot create an empty set using curly brackets as it will create an empty dictionary\n",
    "print(empty_set)"
   ]
  },
  {
   "cell_type": "code",
   "execution_count": 5,
   "id": "aac3ebfd-6c2a-413b-acbb-5717ac8ad714",
   "metadata": {},
   "outputs": [
    {
     "name": "stdout",
     "output_type": "stream",
     "text": [
      "{1, 2, 3, 4, 5}\n"
     ]
    }
   ],
   "source": [
    "my_set = {1, 2, 3, 4, 5}\n",
    "print(my_set)"
   ]
  },
  {
   "cell_type": "markdown",
   "id": "f4765636-79b6-46fd-bff5-aed8ddf87ca8",
   "metadata": {},
   "source": [
    "## Basic Set Operations\n",
    "these include:\n",
    "- `-Adding elements`\n",
    "- `-Removing elements`\n",
    "- `Checking membership`"
   ]
  },
  {
   "cell_type": "code",
   "execution_count": 6,
   "id": "0169ab74-e55c-46e7-87bd-d8e263399978",
   "metadata": {},
   "outputs": [
    {
     "name": "stdout",
     "output_type": "stream",
     "text": [
      "{1, 2, 3, 4}\n"
     ]
    }
   ],
   "source": [
    "myset = {1, 2, 3}\n",
    "myset.add(4)\n",
    "print(myset)"
   ]
  },
  {
   "cell_type": "code",
   "execution_count": 8,
   "id": "51411393-9e0e-433c-849e-c3a5ea97fe41",
   "metadata": {},
   "outputs": [
    {
     "name": "stdout",
     "output_type": "stream",
     "text": [
      "{1, 2, 3}\n"
     ]
    }
   ],
   "source": [
    "my_set = {1, 2, 3, 4}\n",
    "my_set.remove(4)\n",
    "print(my_set)"
   ]
  },
  {
   "cell_type": "code",
   "execution_count": 9,
   "id": "d211f774-d28a-44a0-90ee-e20930bf513b",
   "metadata": {},
   "outputs": [
    {
     "name": "stdout",
     "output_type": "stream",
     "text": [
      "{1, 3}\n"
     ]
    }
   ],
   "source": [
    "my_set.discard(2)\n",
    "print(my_set)"
   ]
  },
  {
   "cell_type": "code",
   "execution_count": 10,
   "id": "0315dbc9-c22f-42c8-94d1-2cc052336c09",
   "metadata": {},
   "outputs": [
    {
     "name": "stdout",
     "output_type": "stream",
     "text": [
      "1\n",
      "{3}\n"
     ]
    }
   ],
   "source": [
    "element = my_set.pop()\n",
    "print(element)\n",
    "print(my_set)"
   ]
  },
  {
   "cell_type": "code",
   "execution_count": 11,
   "id": "a41afc4b-1248-4ce9-955f-85ee64e9e044",
   "metadata": {},
   "outputs": [
    {
     "name": "stdout",
     "output_type": "stream",
     "text": [
      "set()\n"
     ]
    }
   ],
   "source": [
    "my_set.clear()\n",
    "print(my_set)"
   ]
  },
  {
   "cell_type": "code",
   "execution_count": 12,
   "id": "3ac4c86d-d3ed-4771-85c2-71715f49928a",
   "metadata": {},
   "outputs": [
    {
     "name": "stdout",
     "output_type": "stream",
     "text": [
      "True\n",
      "False\n"
     ]
    }
   ],
   "source": [
    "my_set = {1, 2, 3}\n",
    "print(2 in my_set)\n",
    "print(5 in my_set)"
   ]
  },
  {
   "cell_type": "markdown",
   "id": "ab5bbd10-4762-483b-b1b8-8afcc179e7ae",
   "metadata": {},
   "source": [
    "## Set Operations\n",
    "These include:\n",
    "- `-Union`\n",
    "- `-Intersection`\n",
    "- `-Difference`\n",
    "- `-Symmetric Difference`\n",
    "\n"
   ]
  },
  {
   "cell_type": "code",
   "execution_count": 13,
   "id": "817a3483-8803-4db6-a263-1cdff92ff298",
   "metadata": {},
   "outputs": [
    {
     "name": "stdout",
     "output_type": "stream",
     "text": [
      "{1, 2, 3, 4, 5}\n"
     ]
    }
   ],
   "source": [
    "set1 = {1, 2, 3}\n",
    "set2 = {3, 4, 5}\n",
    "union_set = set1 | set2\n",
    "print(union_set)"
   ]
  },
  {
   "cell_type": "code",
   "execution_count": 14,
   "id": "57f7ebe7-bc6e-43de-87c3-34b4260d570f",
   "metadata": {},
   "outputs": [
    {
     "name": "stdout",
     "output_type": "stream",
     "text": [
      "{1, 2, 3, 4, 5}\n"
     ]
    }
   ],
   "source": [
    "union_set = set1.union(set2)\n",
    "print(union_set)"
   ]
  },
  {
   "cell_type": "code",
   "execution_count": 15,
   "id": "6f8ec3fb-ec0c-4e61-9a58-997d1da0e175",
   "metadata": {},
   "outputs": [
    {
     "name": "stdout",
     "output_type": "stream",
     "text": [
      "{3}\n"
     ]
    }
   ],
   "source": [
    "intersection_set = set1 & set2\n",
    "print(intersection_set)"
   ]
  },
  {
   "cell_type": "code",
   "execution_count": 16,
   "id": "00bdae12-9a2d-48fa-bdd2-3752d6edf46a",
   "metadata": {},
   "outputs": [
    {
     "name": "stdout",
     "output_type": "stream",
     "text": [
      "{3}\n"
     ]
    }
   ],
   "source": [
    "intersection_set = set1.intersection(set2)\n",
    "print(intersection_set)"
   ]
  },
  {
   "cell_type": "code",
   "execution_count": 17,
   "id": "1696e40b-5ad5-4c91-9755-15035e956dc0",
   "metadata": {},
   "outputs": [
    {
     "name": "stdout",
     "output_type": "stream",
     "text": [
      "{1, 2}\n"
     ]
    }
   ],
   "source": [
    "difference_set = set1 - set2\n",
    "print(difference_set)"
   ]
  },
  {
   "cell_type": "code",
   "execution_count": 18,
   "id": "4ef2bdcf-53b7-4f61-bf1c-8d46f3c1bc3e",
   "metadata": {},
   "outputs": [
    {
     "name": "stdout",
     "output_type": "stream",
     "text": [
      "{1, 2}\n"
     ]
    }
   ],
   "source": [
    "difference_set = set1.difference(set2)\n",
    "print(difference_set)"
   ]
  },
  {
   "cell_type": "code",
   "execution_count": 19,
   "id": "70955601-2879-4453-bf84-59c5dafac922",
   "metadata": {},
   "outputs": [
    {
     "name": "stdout",
     "output_type": "stream",
     "text": [
      "{1, 2, 4, 5}\n"
     ]
    }
   ],
   "source": [
    "sym_diff_set = set1 ^ set2\n",
    "print(sym_diff_set)"
   ]
  },
  {
   "cell_type": "code",
   "execution_count": 20,
   "id": "289fe881-c403-4143-8bcd-cf5f448c5656",
   "metadata": {},
   "outputs": [
    {
     "name": "stdout",
     "output_type": "stream",
     "text": [
      "{1, 2, 4, 5}\n"
     ]
    }
   ],
   "source": [
    "sym_diff_set = set1.symmetric_difference(set2)\n",
    "print(sym_diff_set)"
   ]
  },
  {
   "cell_type": "markdown",
   "id": "92551951-0c9f-4a8f-ad1f-9cf320bd5317",
   "metadata": {},
   "source": [
    "## accessing set items"
   ]
  },
  {
   "cell_type": "code",
   "execution_count": 22,
   "id": "29b0b184-2bec-4baf-9af8-bd27cad2b168",
   "metadata": {},
   "outputs": [
    {
     "name": "stdout",
     "output_type": "stream",
     "text": [
      "cherry\n",
      "apple\n",
      "banana\n"
     ]
    }
   ],
   "source": [
    "thisset = {\"apple\", \"banana\", \"cherry\"}   #looping through the set\n",
    "for x in thisset:\n",
    "  print(x)"
   ]
  },
  {
   "cell_type": "code",
   "execution_count": 23,
   "id": "3588cbed-bd45-4be3-830d-0bee9c752dc6",
   "metadata": {},
   "outputs": [
    {
     "name": "stdout",
     "output_type": "stream",
     "text": [
      "True\n"
     ]
    }
   ],
   "source": [
    "thisset = {\"apple\", \"banana\", \"cherry\"}   #Checks if \"banana\" is present in the set\n",
    "\n",
    "print(\"banana\" in thisset)"
   ]
  },
  {
   "cell_type": "code",
   "execution_count": 24,
   "id": "9545fa2a-5537-4f66-b15c-bfc04110f60a",
   "metadata": {},
   "outputs": [
    {
     "name": "stdout",
     "output_type": "stream",
     "text": [
      "False\n"
     ]
    }
   ],
   "source": [
    "thisset = {\"apple\", \"banana\", \"cherry\"}  #Checks if \"banana\" is NOT present in the set\n",
    "\n",
    "print(\"banana\" not in thisset)"
   ]
  },
  {
   "cell_type": "code",
   "execution_count": null,
   "id": "13fa44eb-cb03-448b-b4cf-1673dbf72355",
   "metadata": {},
   "outputs": [],
   "source": []
  }
 ],
 "metadata": {
  "kernelspec": {
   "display_name": "Python 3 (ipykernel)",
   "language": "python",
   "name": "python3"
  },
  "language_info": {
   "codemirror_mode": {
    "name": "ipython",
    "version": 3
   },
   "file_extension": ".py",
   "mimetype": "text/x-python",
   "name": "python",
   "nbconvert_exporter": "python",
   "pygments_lexer": "ipython3",
   "version": "3.9.0"
  }
 },
 "nbformat": 4,
 "nbformat_minor": 5
}
