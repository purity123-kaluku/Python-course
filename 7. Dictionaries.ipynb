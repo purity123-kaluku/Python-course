{
 "cells": [
  {
   "cell_type": "markdown",
   "id": "1e8b5d56-ec44-4b78-b67b-1258ddd11049",
   "metadata": {},
   "source": [
    "## dictionaries"
   ]
  },
  {
   "cell_type": "markdown",
   "id": "fee3ac73-45f0-46b3-8188-9178dda2e5ab",
   "metadata": {},
   "source": [
    "Dictionaries in Python are a type of collection that allows you to store data in key-value pairs. They are mutable, meaning you can change their contents after creation, and they are unordered, meaning the items do not have a specific order. Here's a comprehensive guide to understanding and using dictionaries in Python:\n",
    "\n",
    "### Creating Dictionaries\n",
    "\n",
    "1. **Using curly braces `{}`**\n",
    "   ```python\n",
    "   my_dict = {\n",
    "       \"name\": \"Alice\",\n",
    "       \"age\": 25,\n",
    "       \"city\": \"New York\"\n",
    "   }\n",
    "   ```\n",
    "\n",
    "2. **Using the `dict()` fu`.items()`nction**\n",
    "   ```python\n",
    "   my_dict = dict(name=\"Alice\", age=25, city=\"New York\")\n",
    "   ```\n",
    "\n",
    "### Accessing Values\n",
    "\n",
    "- **Using keys**\n",
    "  ```python\n",
    "  print(my_dict[\"name\"])  # Output: Alice\n",
    "  ```\n",
    "\n",
    "- **Using the `get()` method** (which allows specifying a default value if the key is not found)\n",
    "  ```python\n",
    "  print(my_dict.get(\"name\"))       # Output: Alice\n",
    "  print(my_dict.get(\"country\", \"USA\"))  # Output: USA\n",
    "  ```\n",
    "\n",
    "### Adding or Updating Entries\n",
    "\n",
    "- **Adding new key-value pairs**\n",
    "  ```python\n",
    "  my_dict[\"email\"] = \"alice@example.com\"\n",
    "  ```\n",
    "\n",
    "- **Updating existing key-value pairs**\n",
    "  ```python\n",
    "  my_dict[\"age\"] = 26\n",
    "  ```\n",
    "\n",
    "### Removing Entries\n",
    "\n",
    "- **Using the `del` statement**\n",
    "  ```python\n",
    "  del my_dict[\"city\"]\n",
    "  ```\n",
    "\n",
    "- **Using the `pop()` method** (removes the item with the specified key and returns its value)\n",
    "  ```python\n",
    "  age = my_dict.pop(\"age\")\n",
    "  print(age)  # Output: 26\n",
    "  ```\n",
    "\n",
    "- **Using the `popitem()` method** (removes and returns the last key-value pair as a tuple)\n",
    "  ```python\n",
    "  last_item = my_dict.popitem()\n",
    "  print(last_item)  # Output: ('email', 'alice@example.com')\n",
    "  ```\n",
    "\n",
    "- **Using the `clear()` method** (removes all items from the dictionary)\n",
    "  ```python\n",
    "  my_dict.clear()\n",
    "  ```\n",
    "\n",
    "### Looping Through Dictionaries\n",
    "\n",
    "- **Looping through keys**\n",
    "  ```python\n",
    "  for key in my_dict:\n",
    "      print(key)\n",
    "  ```\n",
    "\n",
    "- **Looping through values**\n",
    "  ```python\n",
    "  for value in my_dict.values():\n",
    "      print(value)\n",
    "  ```\n",
    "\n",
    "- **Looping through key-value pairs**\n",
    "  ```python\n",
    "  for key, value in my_dict.items():\n",
    "      print(f\"{key}: {value}\")\n",
    "  ```\n",
    "\n",
    "### Dictionary Methods\n",
    "\n",
    "1. **`.keys()`**\n",
    "   - Returns a view object containing the keys of the dictionary.\n",
    "   ```python\n",
    "   keys = my_dict.keys()\n",
    "   print(keys)  # Output: dict_keys(['name', 'age', 'city'])\n",
    "   ```\n",
    "\n",
    "2. **`.values()`**\n",
    "   - Returns a view object containing the values of the dictionary.\n",
    "   ```python\n",
    "   values = my_dict.values()\n",
    "   print(values)  # Output: dict_values(['Alice', 25, 'New York'])\n",
    "   ```\n",
    "\n",
    "3. **`.items()`**\n",
    "   - Returns a view object containing the key-value pairs of the dictionary.\n",
    "   ```python\n",
    "   items = my_dict.items()\n",
    "   print(items)  # Output: dict_items([('name', 'Alice'), ('age', 25), ('city', 'New York')])\n",
    "   ```\n",
    "\n",
    "4. **`.update()`**\n",
    "   - Updates the dictionary with the key-value pairs from another dictionary or from an iterable of key-value pairs.\n",
    "   ```python\n",
    "   my_dict.update({\"email\": \"alice@example.com\", \"age\": 26})\n",
    "   ```\n",
    "\n",
    "5. **`.copy()`**\n",
    "   - Returns a shallow copy of the dictionary.\n",
    "   ```python\n",
    "   new_dict = my_dict.copy()\n",
    "   ```\n",
    "\n",
    "6. **`.setdefault()`**\n",
    "   - Returns the value of a key if it is in the dictionary; if not, inserts the key with a specified value.\n",
    "   ```python\n",
    "   country = my_dict.setdefault(\"country\", \"USA\")\n",
    "   print(country)  # Output: USA\n",
    "   print(my_dict)  # \"country\" is now in my_dict\n",
    "   ```\n",
    "\n",
    "### Example Usage\n",
    "\n",
    "Here's an example demonstrating various dictionary operations:\n",
    "\n",
    "```python\n",
    "# Creating a dictionary\n",
    "student = {\n",
    "    \"name\": \"John Doe\",\n",
    "    \"age\": 21,\n",
    "    \"courses\": [\"Math\", \"Science\"]\n",
    "}\n",
    "\n",
    "# Accessing values\n",
    "print(student[\"name\"])  # Output: John Doe\n",
    "\n",
    "# Adding a new key-value pair\n",
    "student[\"grade\"] = \"A\"\n",
    "\n",
    "# Updating an existing value\n",
    "student[\"age\"] = 22\n",
    "\n",
    "# Removing a key-value pair\n",
    "del student[\"courses\"]\n",
    "\n",
    "# Looping through the dictionary\n",
    "for key, value in student.items():\n",
    "    print(f\"{key}: {value}\")\n",
    "\n",
    "# Output:\n",
    "# name: John Doe\n",
    "# age: 22\n",
    "# grade: A\n",
    "\n",
    "# Using dictionary methods\n",
    "keys = student.keys()\n",
    "values = student.values()\n",
    "items = student.items()\n",
    "\n",
    "print(keys)   # Output: dict_keys(['name', 'age', 'grade'])\n",
    "print(values) # Output: dict_values(['John Doe', 22, 'A'])\n",
    "print(items)  # Output: dict_items([('name', 'John Doe'), ('age', 22), ('grade', 'A')])\n",
    "```\n",
    "\n",
    "Dictionaries are highly versatile and useful for many programming tasks where key-value associations are needed. Understanding and using these methods effectively can greatly enhance your ability to manage and manipulate data in Python."
   ]
  },
  {
   "cell_type": "markdown",
   "id": "1704619b-87fc-42e4-96f2-ee99dae4d052",
   "metadata": {},
   "source": [
    "## creating dictionaries"
   ]
  },
  {
   "cell_type": "code",
   "execution_count": 9,
   "id": "f6c9f669-b7af-4d91-ab6a-19a10d667805",
   "metadata": {},
   "outputs": [
    {
     "name": "stdout",
     "output_type": "stream",
     "text": [
      "{'brand': 'ford', 'model': 'mustang', 'year': 1964}\n"
     ]
    }
   ],
   "source": [
    "mydict = {\n",
    "    \"brand\":\"ford\",\n",
    "    \"model\":\"mustang\",\n",
    "    \"year\":1964\n",
    "    \n",
    "}\n",
    "print(mydict)"
   ]
  },
  {
   "cell_type": "code",
   "execution_count": 10,
   "id": "5ff4a78c-1e9c-4d19-abfe-5848f6f8d823",
   "metadata": {},
   "outputs": [
    {
     "name": "stdout",
     "output_type": "stream",
     "text": [
      "{'name': 'Alice', 'age': 25, 'city': 'New York'}\n"
     ]
    }
   ],
   "source": [
    "my_dict = dict(name=\"Alice\", age=25, city=\"New York\")\n",
    "print(my_dict)"
   ]
  },
  {
   "cell_type": "markdown",
   "id": "8f5980cc-5237-4c7f-8ac2-dd39f652c5bb",
   "metadata": {},
   "source": [
    "## adding values to a dictionary"
   ]
  },
  {
   "cell_type": "code",
   "execution_count": 11,
   "id": "84785017-b30f-435c-9dcb-5b660d565f86",
   "metadata": {},
   "outputs": [
    {
     "name": "stdout",
     "output_type": "stream",
     "text": [
      "{'name': 'Alice', 'age': 25, 'city': 'New York', 'email': 'alice@example.com'}\n"
     ]
    }
   ],
   "source": [
    "my_dict[\"email\"] = \"alice@example.com\"\n",
    "print(my_dict)"
   ]
  },
  {
   "cell_type": "code",
   "execution_count": 12,
   "id": "c26fae7a-f87d-41d6-9f69-60452a93e6a6",
   "metadata": {},
   "outputs": [
    {
     "name": "stdout",
     "output_type": "stream",
     "text": [
      "{'name': 'Alice', 'age': 25, 'city': 'New York', 'email': 'alice@example.com', 'address': '90207'}\n"
     ]
    }
   ],
   "source": [
    "my_dict[\"address\"] = \"90207\"\n",
    "print(my_dict)"
   ]
  },
  {
   "cell_type": "markdown",
   "id": "41b04ea0-c7a1-48b1-901c-1b436a3b0bfc",
   "metadata": {},
   "source": [
    "## Updating existing key-value pairs"
   ]
  },
  {
   "cell_type": "code",
   "execution_count": 18,
   "id": "8fa09a28-261d-4a55-9e1b-fc49da11ada5",
   "metadata": {},
   "outputs": [
    {
     "name": "stdout",
     "output_type": "stream",
     "text": [
      "{'name': 'Alice', 'age': 26, 'city': 'New York', 'email': 'alice@example.com', 'address': '90207'}\n"
     ]
    }
   ],
   "source": [
    "my_dict[\"age\"] = 26\n",
    "print(my_dict)"
   ]
  },
  {
   "cell_type": "code",
   "execution_count": 20,
   "id": "151a2fb2-a858-4570-ac1f-0cabaa765f0a",
   "metadata": {},
   "outputs": [
    {
     "name": "stdout",
     "output_type": "stream",
     "text": [
      "{'name': 'Alice', 'age': 26, 'city': 'Nairobi', 'email': 'alice@example.com', 'address': '90207'}\n"
     ]
    }
   ],
   "source": [
    "my_dict[\"city\"] = \"Nairobi\"\n",
    "print(my_dict)"
   ]
  },
  {
   "cell_type": "markdown",
   "id": "2c45ea3e-d3cd-4f91-be24-c19218142915",
   "metadata": {},
   "source": [
    "## Accessing Values in a dictionary\n",
    "we can access using the following methods\n",
    "- ` -Using keys`\n",
    "- ` Using the get() method`"
   ]
  },
  {
   "cell_type": "code",
   "execution_count": 13,
   "id": "ed284915-77b2-40dc-ae8f-7f20b24b7813",
   "metadata": {},
   "outputs": [
    {
     "name": "stdout",
     "output_type": "stream",
     "text": [
      "Alice\n"
     ]
    }
   ],
   "source": [
    "print(my_dict[\"name\"])"
   ]
  },
  {
   "cell_type": "code",
   "execution_count": 14,
   "id": "41246c59-81a3-473b-99ee-bebb0aeb30cc",
   "metadata": {},
   "outputs": [
    {
     "name": "stdout",
     "output_type": "stream",
     "text": [
      "25\n"
     ]
    }
   ],
   "source": [
    "print(my_dict[\"age\"])"
   ]
  },
  {
   "cell_type": "code",
   "execution_count": 15,
   "id": "6c65c690-f15c-47ce-8ec4-ed8d886b7b6a",
   "metadata": {},
   "outputs": [
    {
     "name": "stdout",
     "output_type": "stream",
     "text": [
      "Alice\n"
     ]
    }
   ],
   "source": [
    "print(my_dict.get(\"name\"))"
   ]
  },
  {
   "cell_type": "code",
   "execution_count": 16,
   "id": "e0dcc63e-6eb7-4b5e-a71a-6547936f0d37",
   "metadata": {},
   "outputs": [
    {
     "name": "stdout",
     "output_type": "stream",
     "text": [
      "USA\n"
     ]
    }
   ],
   "source": [
    "print(my_dict.get(\"country\", \"USA\"))"
   ]
  },
  {
   "cell_type": "markdown",
   "id": "888ce400-79b0-43af-830b-6aa432db2967",
   "metadata": {},
   "source": [
    "## dictionary methods\n",
    "- `.keys()`\n",
    "- `.values()`\n",
    "- `.items()`\n",
    "- `.update()`\n",
    "- `.copy()`\n",
    "- `.setdefault()`"
   ]
  },
  {
   "cell_type": "code",
   "execution_count": 21,
   "id": "5695905b-589a-478b-8062-8293448c4e89",
   "metadata": {},
   "outputs": [
    {
     "name": "stdout",
     "output_type": "stream",
     "text": [
      "dict_keys(['name', 'age', 'city', 'email', 'address'])\n"
     ]
    }
   ],
   "source": [
    "keys = my_dict.keys()\n",
    "print(keys)"
   ]
  },
  {
   "cell_type": "code",
   "execution_count": 22,
   "id": "2c256092-32cc-440a-908f-1904c31988b4",
   "metadata": {},
   "outputs": [
    {
     "name": "stdout",
     "output_type": "stream",
     "text": [
      "dict_values(['Alice', 26, 'Nairobi', 'alice@example.com', '90207'])\n"
     ]
    }
   ],
   "source": [
    "values = my_dict.values()\n",
    "print(values)"
   ]
  },
  {
   "cell_type": "code",
   "execution_count": 23,
   "id": "c06c4afb-a101-41af-a1da-2ea0471ac14c",
   "metadata": {},
   "outputs": [
    {
     "name": "stdout",
     "output_type": "stream",
     "text": [
      "dict_items([('name', 'Alice'), ('age', 26), ('city', 'Nairobi'), ('email', 'alice@example.com'), ('address', '90207')])\n"
     ]
    }
   ],
   "source": [
    "items = my_dict.items()\n",
    "print(items)"
   ]
  },
  {
   "cell_type": "code",
   "execution_count": 25,
   "id": "546d8181-ed90-4270-9f3c-0f7c4b64a5a6",
   "metadata": {},
   "outputs": [
    {
     "name": "stdout",
     "output_type": "stream",
     "text": [
      "{'name': 'Alice', 'age': 28, 'city': 'Nairobi', 'email': 'alice@gmail.com', 'address': '90207'}\n"
     ]
    }
   ],
   "source": [
    "my_dict.update({\"email\": \"alice@gmail.com\", \"age\": 28})\n",
    "print(my_dict)"
   ]
  },
  {
   "cell_type": "code",
   "execution_count": 26,
   "id": "390503c6-b073-4705-8c8a-a86c1f896395",
   "metadata": {},
   "outputs": [
    {
     "name": "stdout",
     "output_type": "stream",
     "text": [
      "{'name': 'Alice', 'age': 28, 'city': 'Nairobi', 'email': 'alice@gmail.com', 'address': '90207'}\n"
     ]
    }
   ],
   "source": [
    "new_dict = my_dict.copy()\n",
    "print(new_dict)"
   ]
  },
  {
   "cell_type": "code",
   "execution_count": 27,
   "id": "768161f7-80a9-4611-af46-1147d2e41783",
   "metadata": {},
   "outputs": [
    {
     "name": "stdout",
     "output_type": "stream",
     "text": [
      "USA\n",
      "{'name': 'Alice', 'age': 28, 'city': 'Nairobi', 'email': 'alice@gmail.com', 'address': '90207', 'country': 'USA'}\n"
     ]
    }
   ],
   "source": [
    "country = my_dict.setdefault(\"country\", \"USA\")\n",
    "print(country)\n",
    "print(my_dict)"
   ]
  },
  {
   "cell_type": "markdown",
   "id": "d4eec884-7682-4655-8b44-0989484b3392",
   "metadata": {},
   "source": [
    "## Looping Through Dictionaries"
   ]
  },
  {
   "cell_type": "code",
   "execution_count": 28,
   "id": "2331aaac-4073-45a0-b5dd-3faf62b9e809",
   "metadata": {},
   "outputs": [
    {
     "name": "stdout",
     "output_type": "stream",
     "text": [
      "name\n",
      "age\n",
      "city\n",
      "email\n",
      "address\n",
      "country\n"
     ]
    }
   ],
   "source": [
    "for key in my_dict:\n",
    "    print(key)"
   ]
  },
  {
   "cell_type": "code",
   "execution_count": 29,
   "id": "8c7695ab-e5de-4605-b558-42fc2519e698",
   "metadata": {},
   "outputs": [
    {
     "name": "stdout",
     "output_type": "stream",
     "text": [
      "Alice\n",
      "28\n",
      "Nairobi\n",
      "alice@gmail.com\n",
      "90207\n",
      "USA\n"
     ]
    }
   ],
   "source": [
    "for value in my_dict.values():\n",
    "    print(value)"
   ]
  },
  {
   "cell_type": "code",
   "execution_count": 30,
   "id": "261de3c6-d46f-43e7-8611-7c1acc2bc5f8",
   "metadata": {},
   "outputs": [
    {
     "name": "stdout",
     "output_type": "stream",
     "text": [
      "name: Alice\n",
      "age: 28\n",
      "city: Nairobi\n",
      "email: alice@gmail.com\n",
      "address: 90207\n",
      "country: USA\n"
     ]
    }
   ],
   "source": [
    "for key, value in my_dict.items():\n",
    "    print(f\"{key}: {value}\")\n",
    "    "
   ]
  },
  {
   "cell_type": "markdown",
   "id": "ce4cb342-ea76-43a2-8ac8-325f92cd2a94",
   "metadata": {},
   "source": [
    "## Removing Entries in a dictionary\n",
    "we can use the following methods\n",
    "- `del statement`\n",
    "- `pop() method`\n",
    "- `popitem() method`\n",
    "- `clear() method`"
   ]
  },
  {
   "cell_type": "code",
   "execution_count": 31,
   "id": "f55af8cf-7b00-4886-94b4-385c4e42b3f2",
   "metadata": {},
   "outputs": [
    {
     "name": "stdout",
     "output_type": "stream",
     "text": [
      "{'name': 'Alice', 'age': 28, 'city': 'Nairobi', 'email': 'alice@gmail.com', 'country': 'USA'}\n"
     ]
    }
   ],
   "source": [
    "del my_dict[\"address\"]\n",
    "print(my_dict)"
   ]
  },
  {
   "cell_type": "code",
   "execution_count": 33,
   "id": "ad0070a6-9743-4f06-8751-beb2aea76565",
   "metadata": {},
   "outputs": [
    {
     "name": "stdout",
     "output_type": "stream",
     "text": [
      "('country', 'USA')\n"
     ]
    }
   ],
   "source": [
    "last_item = my_dict.popitem()\n",
    "print(last_item)"
   ]
  },
  {
   "cell_type": "code",
   "execution_count": 40,
   "id": "bad09dd1-73e3-46bd-9162-ba4d41efca84",
   "metadata": {},
   "outputs": [
    {
     "name": "stdout",
     "output_type": "stream",
     "text": [
      "{'city': 'Nairobi'}\n"
     ]
    }
   ],
   "source": [
    "name = my_dict.pop(\"name\")\n",
    "print(my_dict)"
   ]
  },
  {
   "cell_type": "code",
   "execution_count": 41,
   "id": "6d05c0bc-8cda-4e20-94e0-8e52bf868616",
   "metadata": {},
   "outputs": [
    {
     "name": "stdout",
     "output_type": "stream",
     "text": [
      "{}\n"
     ]
    }
   ],
   "source": [
    "my_dict.clear()\n",
    "print(my_dict)"
   ]
  },
  {
   "cell_type": "code",
   "execution_count": null,
   "id": "db7bdc0d-19e1-4124-b26f-a2a5d15a102d",
   "metadata": {},
   "outputs": [],
   "source": []
  }
 ],
 "metadata": {
  "kernelspec": {
   "display_name": "Python 3 (ipykernel)",
   "language": "python",
   "name": "python3"
  },
  "language_info": {
   "codemirror_mode": {
    "name": "ipython",
    "version": 3
   },
   "file_extension": ".py",
   "mimetype": "text/x-python",
   "name": "python",
   "nbconvert_exporter": "python",
   "pygments_lexer": "ipython3",
   "version": "3.9.0"
  }
 },
 "nbformat": 4,
 "nbformat_minor": 5
}
