{
 "cells": [
  {
   "cell_type": "markdown",
   "id": "fd6122c4-e85c-44b5-af53-9da15dfd1505",
   "metadata": {},
   "source": [
    "## python iterators\n",
    " an iterator is an object that allows you to traverse through all the elements in a collection (like lists, tuples, dictionaries, and sets) one element at a time."
   ]
  },
  {
   "cell_type": "markdown",
   "id": "06b36266-861b-4e06-9fbb-8e0b732a4f86",
   "metadata": {},
   "source": [
    "### The Iterator Protocol\n",
    "The iterator protocol consists of two core methods:\n",
    "1. `__iter__(): This method returns the iterator object itself. It's called when an iterator is required for a container.`\n",
    "2. `__next__(): This method returns the next item from the container. If there are no more items, it raises the StopIteration exception.`"
   ]
  },
  {
   "cell_type": "markdown",
   "id": "22f1f42c-927c-435d-89ce-6670eaf9cada",
   "metadata": {},
   "source": [
    "### Creating an Iterator"
   ]
  },
  {
   "cell_type": "code",
   "execution_count": 1,
   "id": "b4b9f24e-ab04-4a91-89c0-ac193110c352",
   "metadata": {},
   "outputs": [
    {
     "name": "stdout",
     "output_type": "stream",
     "text": [
      "1\n",
      "2\n",
      "3\n",
      "4\n"
     ]
    }
   ],
   "source": [
    "class MyIterator:\n",
    "    def __init__(self, data):\n",
    "        self.data = data\n",
    "        self.index = 0\n",
    "\n",
    "    def __iter__(self):\n",
    "        return self\n",
    "\n",
    "    def __next__(self):\n",
    "        if self.index < len(self.data):\n",
    "            result = self.data[self.index]\n",
    "            self.index += 1\n",
    "            return result\n",
    "        else:\n",
    "            raise StopIteration\n",
    "\n",
    "# Using the iterator\n",
    "my_iter = MyIterator([1, 2, 3, 4])\n",
    "for item in my_iter:\n",
    "    print(item)\n"
   ]
  },
  {
   "cell_type": "code",
   "execution_count": 2,
   "id": "416d1e59-9b92-44eb-ad80-7035cde21712",
   "metadata": {},
   "outputs": [
    {
     "name": "stdout",
     "output_type": "stream",
     "text": [
      "apple\n",
      "banana\n",
      "cherry\n"
     ]
    }
   ],
   "source": [
    "mytuple = (\"apple\", \"banana\", \"cherry\")   #Return an iterator from a tuple, and print each value:\n",
    "myit = iter(mytuple)\n",
    "\n",
    "print(next(myit))\n",
    "print(next(myit))\n",
    "print(next(myit))\n"
   ]
  },
  {
   "cell_type": "markdown",
   "id": "34ed13ef-105a-45ab-845d-c23f94268cea",
   "metadata": {},
   "source": [
    "### Looping Through an Iterator"
   ]
  },
  {
   "cell_type": "code",
   "execution_count": 3,
   "id": "d0861dbb-a948-491a-a1be-554aeca5e264",
   "metadata": {},
   "outputs": [
    {
     "name": "stdout",
     "output_type": "stream",
     "text": [
      "apple\n",
      "banana\n",
      "cherry\n"
     ]
    }
   ],
   "source": [
    "mytuple = (\"apple\", \"banana\", \"cherry\")\n",
    "\n",
    "for x in mytuple:\n",
    "  print(x)"
   ]
  },
  {
   "cell_type": "code",
   "execution_count": 4,
   "id": "60525f2e-2a52-4c78-939d-8c08c6b2052e",
   "metadata": {},
   "outputs": [
    {
     "name": "stdout",
     "output_type": "stream",
     "text": [
      "1\n",
      "2\n",
      "3\n",
      "4\n",
      "5\n"
     ]
    }
   ],
   "source": [
    "class MyNumbers:\n",
    "  def __iter__(self):\n",
    "    self.a = 1\n",
    "    return self\n",
    "\n",
    "  def __next__(self):\n",
    "    x = self.a\n",
    "    self.a += 1\n",
    "    return x\n",
    "\n",
    "myclass = MyNumbers()\n",
    "myiter = iter(myclass)\n",
    "\n",
    "print(next(myiter))\n",
    "print(next(myiter))\n",
    "print(next(myiter))\n",
    "print(next(myiter))\n",
    "print(next(myiter))"
   ]
  },
  {
   "cell_type": "markdown",
   "id": "0749f37f-fa84-4140-b800-24383ce82aba",
   "metadata": {},
   "source": [
    "### stopping an iteration\n",
    "To prevent the iteration from going on forever, we can use the StopIteration statement."
   ]
  },
  {
   "cell_type": "code",
   "execution_count": 5,
   "id": "55b21956-1506-469a-8295-20e2c8dd7a98",
   "metadata": {},
   "outputs": [
    {
     "name": "stdout",
     "output_type": "stream",
     "text": [
      "1\n",
      "2\n",
      "3\n",
      "4\n",
      "5\n",
      "6\n",
      "7\n",
      "8\n",
      "9\n",
      "10\n",
      "11\n",
      "12\n",
      "13\n",
      "14\n",
      "15\n",
      "16\n",
      "17\n",
      "18\n",
      "19\n",
      "20\n"
     ]
    }
   ],
   "source": [
    "class MyNumbers:           #Stop after 20 iterations\n",
    "  def __iter__(self):\n",
    "    self.a = 1\n",
    "    return self\n",
    "\n",
    "  def __next__(self):\n",
    "    if self.a <= 20:\n",
    "      x = self.a\n",
    "      self.a += 1\n",
    "      return x\n",
    "    else:\n",
    "      raise StopIteration\n",
    "\n",
    "myclass = MyNumbers()\n",
    "myiter = iter(myclass)\n",
    "\n",
    "for x in myiter:\n",
    "  print(x)"
   ]
  },
  {
   "cell_type": "code",
   "execution_count": null,
   "id": "261d49e1-8036-4c41-9afc-7a744bd19d79",
   "metadata": {},
   "outputs": [],
   "source": []
  }
 ],
 "metadata": {
  "kernelspec": {
   "display_name": "Python 3 (ipykernel)",
   "language": "python",
   "name": "python3"
  },
  "language_info": {
   "codemirror_mode": {
    "name": "ipython",
    "version": 3
   },
   "file_extension": ".py",
   "mimetype": "text/x-python",
   "name": "python",
   "nbconvert_exporter": "python",
   "pygments_lexer": "ipython3",
   "version": "3.9.0"
  }
 },
 "nbformat": 4,
 "nbformat_minor": 5
}
