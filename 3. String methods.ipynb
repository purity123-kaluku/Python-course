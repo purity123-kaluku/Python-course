{
 "cells": [
  {
   "cell_type": "markdown",
   "id": "0c65f4cf-ad88-49f2-9d9d-39860cc9d6c4",
   "metadata": {},
   "source": [
    "# String Methods"
   ]
  },
  {
   "cell_type": "markdown",
   "id": "af6d492f-4a55-48bd-b078-3a602a0b07e9",
   "metadata": {},
   "source": [
    "In Python, strings are sequences of characters enclosed in single quotes (`'`), double quotes (`\"`), triple single quotes (`'''`), or triple double quotes (`\"\"\"`). Python provides a variety of built-in methods for string manipulation. Here are some commonly used string methods along with examples:\n",
    "\n",
    "### String Methods\n",
    "\n",
    "1. **`.capitalize()`**\n",
    "   - Capitalizes the first character of the string.\n",
    "   ```python\n",
    "   s = \"hello world\"\n",
    "   print(s.capitalize())  # Output: \"Hello world\"\n",
    "   ```\n",
    "\n",
    "2. **`.lower()`**\n",
    "   - Converts all characters of the string to lowercase.\n",
    "   ```python\n",
    "   s = \"HELLO WORLD\"\n",
    "   print(s.lower())  # Output: \"hello world\"\n",
    "   ```\n",
    "\n",
    "3. **`.upper()`**\n",
    "   - Converts all characters of the string to uppercase.\n",
    "   ```python\n",
    "   s = \"hello world\"\n",
    "   print(s.upper())  # Output: \"HELLO WORLD\"\n",
    "   ```\n",
    "\n",
    "4. **`.title()`**\n",
    "   - Converts the first character of each word to uppercase.\n",
    "   ```python\n",
    "   s = \"hello world\"\n",
    "   print(s.title())  # Output: \"Hello World\"\n",
    "   ```\n",
    "\n",
    "5. **`.swapcase()`**\n",
    "   - Swaps the case of all characters in the string.\n",
    "   ```python\n",
    "   s = \"Hello World\"\n",
    "   print(s.swapcase())  # Output: \"hELLO wORLD\"\n",
    "   ```\n",
    "\n",
    "6. **`.strip()`**\n",
    "   - Removes leading and trailing whitespace.\n",
    "   ```python\n",
    "   s = \"   hello world   \"\n",
    "   print(s.strip())  # Output: \"hello world\"\n",
    "   ```\n",
    "\n",
    "7. **`.lstrip()`**\n",
    "   - Removes leading whitespace.\n",
    "   ```python\n",
    "   s = \"   hello world   \"\n",
    "   print(s.lstrip())  # Output: \"hello world   \"\n",
    "   ```\n",
    "\n",
    "8. **`.rstrip()`**\n",
    "   - Removes trailing whitespace.\n",
    "   ```python\n",
    "   s = \"   hello world   \"\n",
    "   print(s.rstrip())  # Output: \"   hello world\"\n",
    "   ```\n",
    "\n",
    "9. **`.split()`**\n",
    "   - Splits the string into a list of substrings based on a delimiter (default is whitespace).\n",
    "   ```python\n",
    "   s = \"hello world\"\n",
    "   print(s.split())  # Output: [\"hello\", \"world\"]\n",
    "   ```\n",
    "\n",
    "10. **`.join()`**\n",
    "    - Joins elements of an iterable (e.g., list) into a single string with a specified separator.\n",
    "    ```python\n",
    "    words = [\"hello\", \"world\"]\n",
    "    print(\" \".join(words))  # Output: \"hello world\"\n",
    "    ```\n",
    "\n",
    "11. **`.find()`**\n",
    "    - Returns the lowest index of the substring if found, otherwise returns -1.\n",
    "    ```python\n",
    "    s = \"hello world\"\n",
    "    print(s.find(\"world\"))  # Output: 6\n",
    "    ```\n",
    "\n",
    "12. **`.replace()`**\n",
    "    - Replaces occurrences of a substring with another substring.\n",
    "    ```python\n",
    "    s = \"hello world\"\n",
    "    print(s.replace(\"world\", \"Python\"))  # Output: \"hello Python\"\n",
    "    ```\n",
    "\n",
    "13. **`.startswith()`**\n",
    "    - Checks if the string starts with the specified prefix.\n",
    "    ```python\n",
    "    s = \"hello world\"\n",
    "    print(s.startswith(\"hello\"))  # Output: True\n",
    "    ```\n",
    "\n",
    "14. **`.endswith()`**\n",
    "    - Checks if the string ends with the specified suffix.\n",
    "    ```python\n",
    "    s = \"hello world\"\n",
    "    print(s.endswith(\"world\"))  # Output: True\n",
    "    ```\n",
    "\n",
    "15. **`.count()`**\n",
    "    - Returns the number of occurrences of a substring.\n",
    "    ```python\n",
    "    s = \"hello world\"\n",
    "    print(s.count(\"l\"))  # Output: 3\n",
    "    ```\n",
    "\n",
    "16. **`.isalpha()`**\n",
    "    - Checks if all characters in the string are alphabetic.\n",
    "    ```python\n",
    "    s = \"hello\"\n",
    "    print(s.isalpha())  # Output: True\n",
    "    ```\n",
    "\n",
    "17. **`.isdigit()`**\n",
    "    - Checks if all characters in the string are digits.\n",
    "    ```python\n",
    "    s = \"12345\"\n",
    "    print(s.isdigit())  # Output: True\n",
    "    ```\n",
    "\n",
    "18. **`.isalnum()`**\n",
    "    - Checks if all characters in the string are alphanumeric.\n",
    "    ```python\n",
    "    s = \"hello123\"\n",
    "    print(s.isalnum())  # Output: True\n",
    "    ```\n",
    "\n",
    "19. **`.isspace()`**\n",
    "    - Checks if all characters in the string are whitespace.\n",
    "    ```python\n",
    "    s = \"   \"\n",
    "    print(s.isspace())  # Output: True\n",
    "    ```\n",
    "\n",
    "20. **`.format()`**\n",
    "    - Formats string using placeholders.\n",
    "    ```python\n",
    "    s = \"Hello, {}\"\n",
    "    print(s.format(\"world\"))  # Output: \"Hello, world\"\n",
    "    ```\n",
    "\n",
    "### Example Usage\n",
    "\n",
    "Here's a simple example demonstrating some of these methods together:\n",
    "\n",
    "```python\n",
    "text = \"  Welcome to the world of Python!  \"\n",
    "\n",
    "# Strip leading and trailing whitespace\n",
    "stripped_text = text.strip()\n",
    "\n",
    "# Convert to title case\n",
    "title_text = stripped_text.title()\n",
    "\n",
    "# Replace 'Python' with 'Programming'\n",
    "replaced_text = title_text.replace(\"Python\", \"Programming\")\n",
    "\n",
    "# Check if the new text starts with 'Welcome'\n",
    "starts_with_welcome = replaced_text.startswith(\"Welcome\")\n",
    "\n",
    "# Split into a list of words\n",
    "words = replaced_text.split()\n",
    "\n",
    "print(\"Original Text:\", text)\n",
    "print(\"Stripped Text:\", stripped_text)\n",
    "print(\"Title Text:\", title_text)\n",
    "print(\"Replaced Text:\", replaced_text)\n",
    "print(\"Starts with 'Welcome':\", starts_with_welcome)\n",
    "print(\"Words List:\", words)\n",
    "```\n",
    "\n",
    "This code will output:\n",
    "\n",
    "```\n",
    "Original Text:   Welcome to the world of Python!  \n",
    "Stripped Text: Welcome to the world of Python!\n",
    "Title Text: Welcome To The World Of Python!\n",
    "Replaced Text: Welcome To The World Of Programming!\n",
    "Starts with 'Welcome': True\n",
    "Words List: ['Welcome', 'To', 'The', 'World', 'Of', 'Programming!']\n",
    "```\n",
    "\n",
    "These string methods are powerful tools for text manipulation and are widely used in Python programming."
   ]
  },
  {
   "cell_type": "code",
   "execution_count": 1,
   "id": "16406aa3-48ac-48c8-a149-fcaa3ee532bf",
   "metadata": {},
   "outputs": [
    {
     "name": "stdout",
     "output_type": "stream",
     "text": [
      "Python for beginners\n"
     ]
    }
   ],
   "source": [
    "course = 'python for beginners'\n",
    "print(course.capitalize())"
   ]
  },
  {
   "cell_type": "code",
   "execution_count": 2,
   "id": "1ce61197-7084-4c60-a33e-fbcad3ec621b",
   "metadata": {},
   "outputs": [
    {
     "name": "stdout",
     "output_type": "stream",
     "text": [
      "PYTHON FOR BEGINNERS\n"
     ]
    }
   ],
   "source": [
    "print(course.upper())"
   ]
  },
  {
   "cell_type": "code",
   "execution_count": 3,
   "id": "9650d161-3536-4b61-b479-b500be6ac27f",
   "metadata": {},
   "outputs": [
    {
     "name": "stdout",
     "output_type": "stream",
     "text": [
      "python for beginners\n"
     ]
    }
   ],
   "source": [
    "print(course.lower())"
   ]
  },
  {
   "cell_type": "code",
   "execution_count": 4,
   "id": "4f3beddc-391f-4650-a14d-e7d573edd148",
   "metadata": {},
   "outputs": [
    {
     "name": "stdout",
     "output_type": "stream",
     "text": [
      "Python For Beginners\n"
     ]
    }
   ],
   "source": [
    "print(course.title())"
   ]
  },
  {
   "cell_type": "code",
   "execution_count": 5,
   "id": "42fa4c36-64f7-42b9-9f44-234b5baa4e72",
   "metadata": {},
   "outputs": [
    {
     "name": "stdout",
     "output_type": "stream",
     "text": [
      "PYTHON FOR BEGINNERS\n"
     ]
    }
   ],
   "source": [
    "print(course.swapcase())"
   ]
  },
  {
   "cell_type": "code",
   "execution_count": 6,
   "id": "22533045-59fe-4c61-a59b-1f8a21fa4780",
   "metadata": {},
   "outputs": [
    {
     "name": "stdout",
     "output_type": "stream",
     "text": [
      "python for beginners\n"
     ]
    }
   ],
   "source": [
    "print(course.strip())"
   ]
  },
  {
   "cell_type": "code",
   "execution_count": 7,
   "id": "7cb5bbd1-89a0-4aa7-98eb-48739dbab152",
   "metadata": {},
   "outputs": [
    {
     "name": "stdout",
     "output_type": "stream",
     "text": [
      "['python', 'for', 'beginners']\n"
     ]
    }
   ],
   "source": [
    "print(course.split())"
   ]
  },
  {
   "cell_type": "code",
   "execution_count": 8,
   "id": "9819c206-946a-4531-8f06-6e133448ffaf",
   "metadata": {},
   "outputs": [
    {
     "name": "stdout",
     "output_type": "stream",
     "text": [
      "python for beginners\n"
     ]
    }
   ],
   "source": [
    "print(\"\".join(course))"
   ]
  },
  {
   "cell_type": "code",
   "execution_count": 9,
   "id": "9097709b-a25f-463b-9c64-a0d9a2168101",
   "metadata": {},
   "outputs": [
    {
     "name": "stdout",
     "output_type": "stream",
     "text": [
      "11\n"
     ]
    }
   ],
   "source": [
    "print(course.find(\"beginners\"))"
   ]
  },
  {
   "cell_type": "code",
   "execution_count": 10,
   "id": "9947ffe8-091f-4882-88b0-20b0aeb77596",
   "metadata": {},
   "outputs": [
    {
     "name": "stdout",
     "output_type": "stream",
     "text": [
      "True\n"
     ]
    }
   ],
   "source": [
    "print(course.startswith(\"python\"))"
   ]
  },
  {
   "cell_type": "code",
   "execution_count": 11,
   "id": "c40e60e0-5742-44d2-9c4e-458a94e960e7",
   "metadata": {},
   "outputs": [
    {
     "name": "stdout",
     "output_type": "stream",
     "text": [
      "True\n"
     ]
    }
   ],
   "source": [
    "print(course.endswith(\"beginners\"))"
   ]
  },
  {
   "cell_type": "code",
   "execution_count": 12,
   "id": "d6b5cd26-349a-4008-8e8b-ba1d1c9e3734",
   "metadata": {},
   "outputs": [
    {
     "name": "stdout",
     "output_type": "stream",
     "text": [
      "3\n"
     ]
    }
   ],
   "source": [
    "print(course.count(\"n\"))"
   ]
  },
  {
   "cell_type": "code",
   "execution_count": 13,
   "id": "133ca3f2-0265-436b-af3d-4779dd0f4b78",
   "metadata": {},
   "outputs": [
    {
     "name": "stdout",
     "output_type": "stream",
     "text": [
      "False\n"
     ]
    }
   ],
   "source": [
    "print(course.isalpha())"
   ]
  },
  {
   "cell_type": "code",
   "execution_count": 15,
   "id": "0a6e4615-a516-41c0-afef-e5add12cceca",
   "metadata": {},
   "outputs": [
    {
     "name": "stdout",
     "output_type": "stream",
     "text": [
      "False\n"
     ]
    }
   ],
   "source": [
    "print(course.isalnum())"
   ]
  },
  {
   "cell_type": "code",
   "execution_count": 16,
   "id": "90788176-bbdb-456e-b978-d8a9a74da891",
   "metadata": {},
   "outputs": [
    {
     "name": "stdout",
     "output_type": "stream",
     "text": [
      "False\n"
     ]
    }
   ],
   "source": [
    "print(course.isspace())"
   ]
  },
  {
   "cell_type": "code",
   "execution_count": null,
   "id": "f5e768a5-e55c-4cea-892d-97e29e3f70de",
   "metadata": {},
   "outputs": [],
   "source": []
  }
 ],
 "metadata": {
  "kernelspec": {
   "display_name": "Python 3 (ipykernel)",
   "language": "python",
   "name": "python3"
  },
  "language_info": {
   "codemirror_mode": {
    "name": "ipython",
    "version": 3
   },
   "file_extension": ".py",
   "mimetype": "text/x-python",
   "name": "python",
   "nbconvert_exporter": "python",
   "pygments_lexer": "ipython3",
   "version": "3.9.0"
  }
 },
 "nbformat": 4,
 "nbformat_minor": 5
}
