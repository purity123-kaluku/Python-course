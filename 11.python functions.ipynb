{
 "cells": [
  {
   "cell_type": "markdown",
   "id": "940bb587-fa1e-4214-b575-0a2c28af10df",
   "metadata": {},
   "source": [
    "## python functions\n",
    "- `-A funtion is a block of code which only runs when it is called.`\n",
    "- `-You can pass data, known as parameters, into a function.`\n",
    "- `-A function can return data as a result`"
   ]
  },
  {
   "cell_type": "markdown",
   "id": "090708a1-f80d-49aa-a32b-7f693b14107e",
   "metadata": {},
   "source": [
    "## Creating a Function\n",
    "In Python a function is defined using the def keyword:"
   ]
  },
  {
   "cell_type": "code",
   "execution_count": 3,
   "id": "bc6742f9-23d3-4c7a-8930-f32ee35a4ed6",
   "metadata": {},
   "outputs": [],
   "source": [
    "def my_function():\n",
    "  print(\"Hello from a function\")"
   ]
  },
  {
   "cell_type": "code",
   "execution_count": 19,
   "id": "a39680ad-ed0c-412f-97d9-45c00bc653b7",
   "metadata": {},
   "outputs": [],
   "source": [
    "def greet():\n",
    "    print(\"hi there\")\n",
    "    print(\"welcome aboard\")"
   ]
  },
  {
   "cell_type": "code",
   "execution_count": 1,
   "id": "ef2beed2-7ad2-474e-a60d-fcd788dee221",
   "metadata": {},
   "outputs": [],
   "source": [
    "def greet(first_name,last_name):\n",
    "    print(f\"hi {first_name.capitalize()} {last_name.capitalize()}\")\n",
    "    print(\"welcome aboard\")"
   ]
  },
  {
   "cell_type": "code",
   "execution_count": 21,
   "id": "b54ed680-5049-4dc3-9c6f-f60d5232d21d",
   "metadata": {},
   "outputs": [],
   "source": [
    "def greet(name):\n",
    "    print(f\"Hello, {name}!\")\n"
   ]
  },
  {
   "cell_type": "markdown",
   "id": "3c6122d6-7581-45bd-a4a9-307e85c0786c",
   "metadata": {},
   "source": [
    "## Calling a Function\n",
    "To call a function, use the function name followed by parentheses enclosing any required arguments."
   ]
  },
  {
   "cell_type": "code",
   "execution_count": 5,
   "id": "19a3ea06-8659-4b8d-a4a9-0b44b374b719",
   "metadata": {},
   "outputs": [
    {
     "name": "stdout",
     "output_type": "stream",
     "text": [
      "Hello from a function\n"
     ]
    }
   ],
   "source": [
    "def my_function():\n",
    "  print(\"Hello from a function\")\n",
    "\n",
    "my_function()"
   ]
  },
  {
   "cell_type": "code",
   "execution_count": 9,
   "id": "1a023b6c-8a22-4162-b055-e248159d54f0",
   "metadata": {},
   "outputs": [
    {
     "name": "stdout",
     "output_type": "stream",
     "text": [
      "hi there\n",
      "welcome aboard\n"
     ]
    }
   ],
   "source": [
    "def greet():\n",
    "    print(\"hi there\")\n",
    "    print(\"welcome aboard\")\n",
    "\n",
    "greet()"
   ]
  },
  {
   "cell_type": "code",
   "execution_count": 10,
   "id": "ce7f59f2-4cfd-4b1e-a28f-290bcf33cad6",
   "metadata": {},
   "outputs": [
    {
     "name": "stdout",
     "output_type": "stream",
     "text": [
      "hi Kalonzo Stephen\n",
      "welcome aboard\n"
     ]
    }
   ],
   "source": [
    "def greet(first_name,last_name):\n",
    "    print(f\"hi {first_name.capitalize()} {last_name.capitalize()}\")\n",
    "    print(\"welcome aboard\")\n",
    "\n",
    "greet(\"kalonzo\",\"stephen\")"
   ]
  },
  {
   "cell_type": "code",
   "execution_count": 24,
   "id": "1fcc9fc4-d7ba-432c-af2e-03c5f7e4edd6",
   "metadata": {},
   "outputs": [
    {
     "name": "stdout",
     "output_type": "stream",
     "text": [
      "Hello, purity!\n"
     ]
    }
   ],
   "source": [
    "def greet(name):\n",
    "    print(f\"Hello, {name}!\")\n",
    "greet(\"purity\")"
   ]
  },
  {
   "cell_type": "markdown",
   "id": "82498680-6c92-4283-8d6c-2364b1f5bc02",
   "metadata": {},
   "source": [
    "### Arguments\n",
    "-Information can be passed into functions as arguments inside the parentheses"
   ]
  },
  {
   "cell_type": "code",
   "execution_count": 7,
   "id": "ef0f2d3d-a046-4ef7-992b-942d0cdf56ef",
   "metadata": {},
   "outputs": [
    {
     "name": "stdout",
     "output_type": "stream",
     "text": [
      "Emil Refsnes\n",
      "Tobias Refsnes\n",
      "Linus Refsnes\n"
     ]
    }
   ],
   "source": [
    "def my_function(fname):\n",
    "  print(fname + \" Refsnes\")\n",
    "\n",
    "my_function(\"Emil\")\n",
    "my_function(\"Tobias\")\n",
    "my_function(\"Linus\")"
   ]
  },
  {
   "cell_type": "code",
   "execution_count": 9,
   "id": "01e3d642-2e2a-4559-9164-9f3b1426d5f9",
   "metadata": {},
   "outputs": [
    {
     "name": "stdout",
     "output_type": "stream",
     "text": [
      "Emil Refsnes\n"
     ]
    }
   ],
   "source": [
    "def my_function(fname, lname):\n",
    "  print(fname + \" \" + lname)\n",
    "\n",
    "my_function(\"Emil\", \"Refsnes\")"
   ]
  },
  {
   "cell_type": "markdown",
   "id": "024daf7f-eab4-483d-973a-eabf0f160085",
   "metadata": {},
   "source": [
    "## Arbitrary Arguments, *args\n",
    "If you do not know how many arguments that will be passed into your function, add a * before the parameter name in the function definition."
   ]
  },
  {
   "cell_type": "code",
   "execution_count": 33,
   "id": "89210c1e-5e2c-4a9a-9c97-dce2c36fbccd",
   "metadata": {},
   "outputs": [
    {
     "name": "stdout",
     "output_type": "stream",
     "text": [
      "('Emil', 'Tobias', 'Linus')\n",
      "The youngest child is Linus\n"
     ]
    }
   ],
   "source": [
    "def my_function(*kids):\n",
    "    print(kids)\n",
    "    print(\"The youngest child is \" + kids[2])\n",
    "\n",
    "my_function(\"Emil\", \"Tobias\", \"Linus\")"
   ]
  },
  {
   "cell_type": "code",
   "execution_count": 34,
   "id": "02678924-216b-4cfe-a8a4-dacf8df44b3d",
   "metadata": {},
   "outputs": [
    {
     "name": "stdout",
     "output_type": "stream",
     "text": [
      "{'a': 1, 'b': 2}\n",
      "a = 1\n",
      "b = 2\n"
     ]
    }
   ],
   "source": [
    "def print_kwargs(**kwargs):\n",
    "    print(kwargs)\n",
    "    for key, value in kwargs.items():\n",
    "        print(f\"{key} = {value}\")\n",
    "\n",
    "print_kwargs(a=1, b=2)  "
   ]
  },
  {
   "cell_type": "markdown",
   "id": "d71e2672-e103-4617-ae43-be92013097be",
   "metadata": {},
   "source": [
    "## Return Values"
   ]
  },
  {
   "cell_type": "code",
   "execution_count": 25,
   "id": "1f9658c7-1496-45b5-ba1a-ff65f3b75884",
   "metadata": {},
   "outputs": [
    {
     "name": "stdout",
     "output_type": "stream",
     "text": [
      "15\n",
      "25\n",
      "45\n"
     ]
    }
   ],
   "source": [
    "def my_function(x):\n",
    "  return 5 * x\n",
    "\n",
    "print(my_function(3))\n",
    "print(my_function(5))\n",
    "print(my_function(9))"
   ]
  },
  {
   "cell_type": "code",
   "execution_count": 30,
   "id": "2257b7c9-3b0b-4001-b4bb-27b37e1ff0c5",
   "metadata": {},
   "outputs": [
    {
     "name": "stdout",
     "output_type": "stream",
     "text": [
      "Good morning\n",
      "Good evening\n",
      "Good night\n"
     ]
    }
   ],
   "source": [
    "def greet(x):\n",
    "    good = \"Good \" \n",
    "    return good + x\n",
    "\n",
    "print(greet(\"morning\"))\n",
    "print(greet(\"evening\"))\n",
    "print(greet(\"night\"))"
   ]
  },
  {
   "cell_type": "code",
   "execution_count": 38,
   "id": "8e0e0173-5ccc-4e7d-867e-0c86aaf8db0b",
   "metadata": {},
   "outputs": [],
   "source": [
    "total1 = 890\n",
    "def calculator(operation, *args):\n",
    "    print(total1)\n",
    "    if operation.lower().strip() == \"add\":\n",
    "        total = 0\n",
    "        for num in args:\n",
    "            total += num\n",
    "        return total\n",
    "    if operation.lower().strip() == \"subtract\":\n",
    "        total = args[0]\n",
    "        for num in args[1:]:\n",
    "            total -= num\n",
    "        return total"
   ]
  },
  {
   "cell_type": "code",
   "execution_count": 39,
   "id": "b9aa93f9-3ab6-48f8-a142-79b03b17fcaa",
   "metadata": {},
   "outputs": [
    {
     "name": "stdout",
     "output_type": "stream",
     "text": [
      "890\n"
     ]
    },
    {
     "data": {
      "text/plain": [
       "336"
      ]
     },
     "execution_count": 39,
     "metadata": {},
     "output_type": "execute_result"
    }
   ],
   "source": [
    "calculator('add', 98, 77, 6, 89, 66)"
   ]
  },
  {
   "cell_type": "code",
   "execution_count": 35,
   "id": "d492b255-3e43-4c6c-a57f-985ac3d8de1c",
   "metadata": {},
   "outputs": [
    {
     "ename": "NameError",
     "evalue": "name 'total' is not defined",
     "output_type": "error",
     "traceback": [
      "\u001b[1;31m---------------------------------------------------------------------------\u001b[0m",
      "\u001b[1;31mNameError\u001b[0m                                 Traceback (most recent call last)",
      "Cell \u001b[1;32mIn[35], line 1\u001b[0m\n\u001b[1;32m----> 1\u001b[0m \u001b[38;5;28mprint\u001b[39m(\u001b[43mtotal\u001b[49m)\n",
      "\u001b[1;31mNameError\u001b[0m: name 'total' is not defined"
     ]
    }
   ],
   "source": [
    "print(total)"
   ]
  },
  {
   "cell_type": "code",
   "execution_count": null,
   "id": "f24a906a-43b8-409a-9c78-49aeac47d427",
   "metadata": {},
   "outputs": [],
   "source": []
  }
 ],
 "metadata": {
  "kernelspec": {
   "display_name": "Python 3 (ipykernel)",
   "language": "python",
   "name": "python3"
  },
  "language_info": {
   "codemirror_mode": {
    "name": "ipython",
    "version": 3
   },
   "file_extension": ".py",
   "mimetype": "text/x-python",
   "name": "python",
   "nbconvert_exporter": "python",
   "pygments_lexer": "ipython3",
   "version": "3.9.0"
  }
 },
 "nbformat": 4,
 "nbformat_minor": 5
}
